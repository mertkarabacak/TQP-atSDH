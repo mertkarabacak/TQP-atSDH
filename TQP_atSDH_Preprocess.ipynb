{
 "cells": [
  {
   "cell_type": "code",
   "execution_count": null,
   "id": "4AZmJ6jfWEN4",
   "metadata": {
    "colab": {
     "base_uri": "https://localhost:8080/"
    },
    "executionInfo": {
     "elapsed": 22521,
     "status": "ok",
     "timestamp": 1684417003444,
     "user": {
      "displayName": "Mert Karabacak",
      "userId": "14308977132914475412"
     },
     "user_tz": 240
    },
    "id": "4AZmJ6jfWEN4",
    "outputId": "51d6fde1-c4e6-4367-d805-a92ce0cd04e3"
   },
   "outputs": [],
   "source": [
    "from google.colab import drive\n",
    "drive.mount('/content/drive')"
   ]
  },
  {
   "cell_type": "code",
   "execution_count": null,
   "id": "45bff18b",
   "metadata": {
    "executionInfo": {
     "elapsed": 489,
     "status": "ok",
     "timestamp": 1684417003929,
     "user": {
      "displayName": "Mert Karabacak",
      "userId": "14308977132914475412"
     },
     "user_tz": 240
    },
    "id": "45bff18b"
   },
   "outputs": [],
   "source": [
    "import numpy as np\n",
    "import pandas as pd\n",
    "from pandas.api.types import CategoricalDtype\n",
    "\n",
    "from sklearn.preprocessing import LabelEncoder\n",
    "from sklearn.preprocessing import MinMaxScaler\n",
    "from sklearn.impute import KNNImputer\n",
    "\n",
    "from matplotlib import pyplot as plt\n",
    "\n",
    "pd.set_option('display.max_rows', None)"
   ]
  },
  {
   "cell_type": "code",
   "execution_count": null,
   "id": "721c822b",
   "metadata": {
    "colab": {
     "base_uri": "https://localhost:8080/"
    },
    "executionInfo": {
     "elapsed": 6605,
     "status": "ok",
     "timestamp": 1684417010530,
     "user": {
      "displayName": "Mert Karabacak",
      "userId": "14308977132914475412"
     },
     "user_tz": 240
    },
    "id": "721c822b",
    "outputId": "5777957f-4441-4225-841d-0ab5259d73d6"
   },
   "outputs": [],
   "source": [
    "#Open csv file.\n",
    "\n",
    "data = pd.read_csv(\"/content/drive/MyDrive/TQP-atSDH/isolated_atSDH.csv\", index_col=0)\n",
    "data.shape"
   ]
  },
  {
   "cell_type": "markdown",
   "id": "cj-UfERje446",
   "metadata": {
    "id": "cj-UfERje446"
   },
   "source": [
    "#Renaming and Merging Response Values\n",
    "\n",
    "\n"
   ]
  },
  {
   "cell_type": "code",
   "execution_count": null,
   "id": "2ddf793b",
   "metadata": {
    "colab": {
     "base_uri": "https://localhost:8080/"
    },
    "executionInfo": {
     "elapsed": 57,
     "status": "ok",
     "timestamp": 1684417010530,
     "user": {
      "displayName": "Mert Karabacak",
      "userId": "14308977132914475412"
     },
     "user_tz": 240
    },
    "id": "2ddf793b",
    "outputId": "1d377c58-b522-4c74-e5a6-c76d5374bcbd"
   },
   "outputs": [],
   "source": [
    "#See all columns.\n",
    "\n",
    "print(list(data.columns))"
   ]
  },
  {
   "cell_type": "code",
   "execution_count": null,
   "id": "aRvXZDWq_VCp",
   "metadata": {
    "colab": {
     "base_uri": "https://localhost:8080/"
    },
    "executionInfo": {
     "elapsed": 54,
     "status": "ok",
     "timestamp": 1684417010531,
     "user": {
      "displayName": "Mert Karabacak",
      "userId": "14308977132914475412"
     },
     "user_tz": 240
    },
    "id": "aRvXZDWq_VCp",
    "outputId": "6268c1a5-bca5-4d0e-ffa4-6bc2e9de91a8"
   },
   "outputs": [],
   "source": [
    "#Change response values to strings for 'SEX'.\n",
    "\n",
    "data.loc[data['SEX'] == 1, 'SEX'] = 'Male'\n",
    "data.loc[data['SEX'] == 2, 'SEX'] = 'Female'\n",
    "data.loc[data['SEX'] == 3, 'SEX'] = 'Non-Binary'\n",
    "\n",
    "data['SEX'].value_counts(normalize=False, dropna=False)"
   ]
  },
  {
   "cell_type": "code",
   "execution_count": null,
   "id": "C47mobbo4xBs",
   "metadata": {
    "colab": {
     "base_uri": "https://localhost:8080/"
    },
    "executionInfo": {
     "elapsed": 44,
     "status": "ok",
     "timestamp": 1684417010531,
     "user": {
      "displayName": "Mert Karabacak",
      "userId": "14308977132914475412"
     },
     "user_tz": 240
    },
    "id": "C47mobbo4xBs",
    "outputId": "c27496f5-c3ca-4dcf-98ea-828f2ced8482"
   },
   "outputs": [],
   "source": [
    "#Merge race columns and drop former columns.\n",
    "\n",
    "data.loc[data['AMERICANINDIAN'] == 1, 'RACE'] = 'American Indian'\n",
    "data.loc[data['ASIAN'] == 1, 'RACE'] = 'Asian'\n",
    "data.loc[data['BLACK'] == 1, 'RACE'] = 'Black'\n",
    "data.loc[data['PACIFICISLANDER'] == 1, 'RACE'] = 'Pacific Islander'\n",
    "data.loc[data['RACEOTHER'] == 1, 'RACE'] = 'Other/unknown'\n",
    "data.loc[data['WHITE'] == 1, 'RACE'] = 'White'\n",
    "data['RACE'] = data['RACE'].fillna('Other/unknown')\n",
    "\n",
    "data = data.drop(columns=['AMERICANINDIAN', 'ASIAN', 'BLACK', 'PACIFICISLANDER', 'RACEOTHER', 'WHITE'])\n",
    "\n",
    "data['RACE'].value_counts(normalize=False, dropna=False)"
   ]
  },
  {
   "cell_type": "code",
   "execution_count": null,
   "id": "CAwQV1-7Ex9m",
   "metadata": {
    "colab": {
     "base_uri": "https://localhost:8080/"
    },
    "executionInfo": {
     "elapsed": 38,
     "status": "ok",
     "timestamp": 1684417010531,
     "user": {
      "displayName": "Mert Karabacak",
      "userId": "14308977132914475412"
     },
     "user_tz": 240
    },
    "id": "CAwQV1-7Ex9m",
    "outputId": "31926b08-b957-4a83-da20-5d9e12e63419"
   },
   "outputs": [],
   "source": [
    "#Change response values to strings for 'ETHNICITY'.\n",
    "\n",
    "data.loc[data['ETHNICITY'] == 1, 'ETHNICITY'] = 'Hispanic or Latino'\n",
    "data.loc[data['ETHNICITY'] == 2, 'ETHNICITY'] = 'Not Hispanic or Latino'\n",
    "\n",
    "data['ETHNICITY'].value_counts(normalize=False, dropna=False)"
   ]
  },
  {
   "cell_type": "code",
   "execution_count": null,
   "id": "ncup-YC_S4PG",
   "metadata": {
    "colab": {
     "base_uri": "https://localhost:8080/"
    },
    "executionInfo": {
     "elapsed": 33,
     "status": "ok",
     "timestamp": 1684417010531,
     "user": {
      "displayName": "Mert Karabacak",
      "userId": "14308977132914475412"
     },
     "user_tz": 240
    },
    "id": "ncup-YC_S4PG",
    "outputId": "dff320be-9bc4-459f-f6a8-7efc65a555db"
   },
   "outputs": [],
   "source": [
    "#Change response values to strings for 'RESPIRATORYASSISTANCE'.\n",
    "\n",
    "data.loc[data['RESPIRATORYASSISTANCE'] == 1, 'RESPIRATORYASSISTANCE'] = 'Unassisted respiratory rate'\n",
    "data.loc[data['RESPIRATORYASSISTANCE'] == 2, 'RESPIRATORYASSISTANCE'] = 'Assisted respiratory rate'\n",
    "\n",
    "data['RESPIRATORYASSISTANCE'].value_counts(normalize=False, dropna=False)"
   ]
  },
  {
   "cell_type": "code",
   "execution_count": null,
   "id": "J52EM-RzVg6P",
   "metadata": {
    "colab": {
     "base_uri": "https://localhost:8080/"
    },
    "executionInfo": {
     "elapsed": 28,
     "status": "ok",
     "timestamp": 1684417010531,
     "user": {
      "displayName": "Mert Karabacak",
      "userId": "14308977132914475412"
     },
     "user_tz": 240
    },
    "id": "J52EM-RzVg6P",
    "outputId": "7fa5beb7-5250-4c07-cb0f-65beec14ceee"
   },
   "outputs": [],
   "source": [
    "#Change response values to strings for 'SUPPLEMENTALOXYGEN'.\n",
    "\n",
    "data.loc[data['SUPPLEMENTALOXYGEN'] == 1, 'SUPPLEMENTALOXYGEN'] = 'No supplemental oxygen'\n",
    "data.loc[data['SUPPLEMENTALOXYGEN'] == 2, 'SUPPLEMENTALOXYGEN'] = 'Supplemental oxygen'\n",
    "\n",
    "data['SUPPLEMENTALOXYGEN'].value_counts(normalize=False, dropna=False)"
   ]
  },
  {
   "cell_type": "code",
   "execution_count": null,
   "id": "wjKsw76gSYyt",
   "metadata": {
    "colab": {
     "base_uri": "https://localhost:8080/"
    },
    "executionInfo": {
     "elapsed": 24,
     "status": "ok",
     "timestamp": 1684417010531,
     "user": {
      "displayName": "Mert Karabacak",
      "userId": "14308977132914475412"
     },
     "user_tz": 240
    },
    "id": "wjKsw76gSYyt",
    "outputId": "008441b2-ad9c-4730-d542-599273fd2828"
   },
   "outputs": [],
   "source": [
    "#Change response values to strings for 'PREHOSPITALCARDIACARREST'.\n",
    "\n",
    "data.loc[data['PREHOSPITALCARDIACARREST'] == 1, 'PREHOSPITALCARDIACARREST'] = 'Yes'\n",
    "data.loc[data['PREHOSPITALCARDIACARREST'] == 2, 'PREHOSPITALCARDIACARREST'] = 'No'\n",
    "\n",
    "data['PREHOSPITALCARDIACARREST'].value_counts(normalize=False, dropna=False)"
   ]
  },
  {
   "cell_type": "code",
   "execution_count": null,
   "id": "c0IRxBMtVxyi",
   "metadata": {
    "colab": {
     "base_uri": "https://localhost:8080/"
    },
    "executionInfo": {
     "elapsed": 19,
     "status": "ok",
     "timestamp": 1684417010531,
     "user": {
      "displayName": "Mert Karabacak",
      "userId": "14308977132914475412"
     },
     "user_tz": 240
    },
    "id": "c0IRxBMtVxyi",
    "outputId": "9c95523b-52e3-41cd-9291-8f86c4cc8d98"
   },
   "outputs": [],
   "source": [
    "#Change response values to strings for 'TBIMIDLINESHIFT'.\n",
    "\n",
    "data.loc[data['TBIMIDLINESHIFT'] == 1, 'TBIMIDLINESHIFT'] = 'Yes'\n",
    "data.loc[data['TBIMIDLINESHIFT'] == 2, 'TBIMIDLINESHIFT'] = 'No'\n",
    "data.loc[data['TBIMIDLINESHIFT'] == 3, 'TBIMIDLINESHIFT'] = 'Not imaged/unknown'\n",
    "data['TBIMIDLINESHIFT'] = data['TBIMIDLINESHIFT'].fillna('Not imaged/unknown')\n",
    "\n",
    "\n",
    "data['TBIMIDLINESHIFT'].value_counts(normalize=False, dropna=False)"
   ]
  },
  {
   "cell_type": "code",
   "execution_count": null,
   "id": "ugLwh0VwWT4R",
   "metadata": {
    "colab": {
     "base_uri": "https://localhost:8080/"
    },
    "executionInfo": {
     "elapsed": 15,
     "status": "ok",
     "timestamp": 1684417010531,
     "user": {
      "displayName": "Mert Karabacak",
      "userId": "14308977132914475412"
     },
     "user_tz": 240
    },
    "id": "ugLwh0VwWT4R",
    "outputId": "1670218a-52c6-473c-e079-073b96da5217"
   },
   "outputs": [],
   "source": [
    "#Change response values to strings for 'TBIPUPILLARYRESPONSE'.\n",
    "\n",
    "data.loc[data['TBIPUPILLARYRESPONSE'] == 1, 'TBIPUPILLARYRESPONSE'] = 'Both reactive'\n",
    "data.loc[data['TBIPUPILLARYRESPONSE'] == 2, 'TBIPUPILLARYRESPONSE'] = 'One reactive'\n",
    "data.loc[data['TBIPUPILLARYRESPONSE'] == 3, 'TBIPUPILLARYRESPONSE'] = 'Neither reactive'\n",
    "\n",
    "data['TBIPUPILLARYRESPONSE'].value_counts(normalize=False, dropna=False)"
   ]
  },
  {
   "cell_type": "code",
   "execution_count": null,
   "id": "9_2oCKPU5Nnn",
   "metadata": {
    "colab": {
     "base_uri": "https://localhost:8080/"
    },
    "executionInfo": {
     "elapsed": 11,
     "status": "ok",
     "timestamp": 1684417010531,
     "user": {
      "displayName": "Mert Karabacak",
      "userId": "14308977132914475412"
     },
     "user_tz": 240
    },
    "id": "9_2oCKPU5Nnn",
    "outputId": "38f9a403-9d12-42bc-ee3e-80999c64023a"
   },
   "outputs": [],
   "source": [
    "#Fill NaN for bleeding variables.\n",
    "\n",
    "data['LOCALIZATION'] = data['LOCALIZATION'].fillna('Unknown')\n",
    "data['SIZE'] = data['SIZE'].fillna('Unknown')\n",
    "\n",
    "print(data['LOCALIZATION'].value_counts(normalize=False, dropna=False))\n",
    "print(data['SIZE'].value_counts(normalize=False, dropna=False))"
   ]
  },
  {
   "cell_type": "code",
   "execution_count": null,
   "id": "Ue9MA_7K63PX",
   "metadata": {
    "colab": {
     "base_uri": "https://localhost:8080/"
    },
    "executionInfo": {
     "elapsed": 7,
     "status": "ok",
     "timestamp": 1684417010531,
     "user": {
      "displayName": "Mert Karabacak",
      "userId": "14308977132914475412"
     },
     "user_tz": 240
    },
    "id": "Ue9MA_7K63PX",
    "outputId": "44da05a0-80fc-48b4-a772-6218e02a5193"
   },
   "outputs": [],
   "source": [
    "#Assign male patients' pregnancy response values as 'Not applicable (male patient)\n",
    "\n",
    "data.loc[data['SEX'] == 'Male', 'CC_PREGNANCY'] = 'Not applicable (male patient)'\n",
    "\n",
    "data['CC_PREGNANCY'].value_counts(normalize=False, dropna=False)"
   ]
  },
  {
   "cell_type": "code",
   "execution_count": null,
   "id": "4LVwMs6xVuhT",
   "metadata": {
    "colab": {
     "base_uri": "https://localhost:8080/"
    },
    "executionInfo": {
     "elapsed": 482,
     "status": "ok",
     "timestamp": 1684417011010,
     "user": {
      "displayName": "Mert Karabacak",
      "userId": "14308977132914475412"
     },
     "user_tz": 240
    },
    "id": "4LVwMs6xVuhT",
    "outputId": "6dc0881d-f577-439a-aec5-fe582436fa16"
   },
   "outputs": [],
   "source": [
    "#Change response values to strings for 'TRANSPORTMODE'.\n",
    "\n",
    "data.loc[data['TRANSPORTMODE'] == 1, 'TRANSPORTMODE'] = 'Ground ambulance'\n",
    "data.loc[data['TRANSPORTMODE'] == 2, 'TRANSPORTMODE'] = 'Air ambulance'\n",
    "data.loc[data['TRANSPORTMODE'] == 3, 'TRANSPORTMODE'] = 'Air ambulance'\n",
    "data.loc[data['TRANSPORTMODE'] == 4, 'TRANSPORTMODE'] = 'Private/public vehicle/walk-in'\n",
    "data.loc[data['TRANSPORTMODE'] == 5, 'TRANSPORTMODE'] = 'Other/police/unknown/etc.'\n",
    "data.loc[data['TRANSPORTMODE'] == 6, 'TRANSPORTMODE'] = 'Other/police/unknown/etc.'\n",
    "data['TRANSPORTMODE'] = data['TRANSPORTMODE'].fillna('Other/police/unknown/etc.')\n",
    "\n",
    "\n",
    "data['TRANSPORTMODE'].value_counts(normalize=False, dropna=False)"
   ]
  },
  {
   "cell_type": "code",
   "execution_count": null,
   "id": "SPlPKVDhNF1o",
   "metadata": {
    "colab": {
     "base_uri": "https://localhost:8080/"
    },
    "executionInfo": {
     "elapsed": 16,
     "status": "ok",
     "timestamp": 1684417011010,
     "user": {
      "displayName": "Mert Karabacak",
      "userId": "14308977132914475412"
     },
     "user_tz": 240
    },
    "id": "SPlPKVDhNF1o",
    "outputId": "e056af14-6576-46c9-c340-300df6b57311"
   },
   "outputs": [],
   "source": [
    "#Change response values to strings for 'INTERFACILITYTRANSFER'.\n",
    "\n",
    "data.loc[data['INTERFACILITYTRANSFER'] == 1, 'INTERFACILITYTRANSFER'] = 'Yes'\n",
    "data.loc[data['INTERFACILITYTRANSFER'] == 2, 'INTERFACILITYTRANSFER'] = 'No'\n",
    "\n",
    "data['INTERFACILITYTRANSFER'].value_counts(normalize=False, dropna=False)"
   ]
  },
  {
   "cell_type": "code",
   "execution_count": null,
   "id": "WMA717rycxcD",
   "metadata": {
    "colab": {
     "base_uri": "https://localhost:8080/"
    },
    "executionInfo": {
     "elapsed": 8,
     "status": "ok",
     "timestamp": 1684417011010,
     "user": {
      "displayName": "Mert Karabacak",
      "userId": "14308977132914475412"
     },
     "user_tz": 240
    },
    "id": "WMA717rycxcD",
    "outputId": "69a5fcd6-828c-4eed-9300-672637d80e94"
   },
   "outputs": [],
   "source": [
    "#Change response values to strings for 'TRAUMATYPE'.\n",
    "\n",
    "data.loc[data['TRAUMATYPE'] == 1, 'TRAUMATYPE'] = 'Blunt'\n",
    "data.loc[data['TRAUMATYPE'] == 2, 'TRAUMATYPE'] = 'Penetrating'\n",
    "data.loc[data['TRAUMATYPE'] == 3, 'TRAUMATYPE'] = 'Other/unknown'\n",
    "data.loc[data['TRAUMATYPE'] == 4, 'TRAUMATYPE'] = 'Other/unknown'\n",
    "data.loc[data['TRAUMATYPE'] == 9, 'TRAUMATYPE'] = 'Other/unknown'\n",
    "data['TRAUMATYPE'] = data['TRAUMATYPE'].fillna('Other/unknown')\n",
    "\n",
    "data['TRAUMATYPE'].value_counts(normalize=False, dropna=False)"
   ]
  },
  {
   "cell_type": "code",
   "execution_count": null,
   "id": "lN8pbh2QbZnk",
   "metadata": {
    "colab": {
     "base_uri": "https://localhost:8080/"
    },
    "executionInfo": {
     "elapsed": 398,
     "status": "ok",
     "timestamp": 1684417011406,
     "user": {
      "displayName": "Mert Karabacak",
      "userId": "14308977132914475412"
     },
     "user_tz": 240
    },
    "id": "lN8pbh2QbZnk",
    "outputId": "2fe777bc-08a1-4bb5-9235-e943e7fc6eec"
   },
   "outputs": [],
   "source": [
    "#Change response values to strings for 'INTENT'.\n",
    "\n",
    "data.loc[data['INTENT'] == 1, 'INTENT'] = 'Unintentional'\n",
    "data.loc[data['INTENT'] == 2, 'INTENT'] = 'Self-inflicted'\n",
    "data.loc[data['INTENT'] == 3, 'INTENT'] = 'Assault'\n",
    "data.loc[data['INTENT'] == 4, 'INTENT'] = 'Other/unknown'\n",
    "data.loc[data['INTENT'] == 5, 'INTENT'] = 'Other/unknown'\n",
    "data['INTENT'] = data['INTENT'].fillna('Other/unknown')\n",
    "\n",
    "data['INTENT'].value_counts(normalize=False, dropna=False)"
   ]
  },
  {
   "cell_type": "code",
   "execution_count": null,
   "id": "HPM9cjQubqEa",
   "metadata": {
    "colab": {
     "base_uri": "https://localhost:8080/"
    },
    "executionInfo": {
     "elapsed": 1375,
     "status": "ok",
     "timestamp": 1684417012777,
     "user": {
      "displayName": "Mert Karabacak",
      "userId": "14308977132914475412"
     },
     "user_tz": 240
    },
    "id": "HPM9cjQubqEa",
    "outputId": "dbdc9e2a-6a11-4cc2-b027-8acfc3a93dbf"
   },
   "outputs": [],
   "source": [
    "#Change response values to strings for 'MECHANISM'.\n",
    "\n",
    "data.loc[data['MECHANISM'] == 1, 'MECHANISM'] = 'Cut/pierce'\n",
    "data.loc[data['MECHANISM'] == 2, 'MECHANISM'] = 'Other/unspecified/unknown'\n",
    "data.loc[data['MECHANISM'] == 3, 'MECHANISM'] = 'Fall'\n",
    "data.loc[data['MECHANISM'] == 4, 'MECHANISM'] = 'Other/unspecified/unknown'\n",
    "data.loc[data['MECHANISM'] == 5, 'MECHANISM'] = 'Other/unspecified/unknown'\n",
    "data.loc[data['MECHANISM'] == 6, 'MECHANISM'] = 'Firearm'\n",
    "data.loc[data['MECHANISM'] == 7, 'MECHANISM'] = 'Machinery'\n",
    "data.loc[data['MECHANISM'] == 8, 'MECHANISM'] = 'MVT occupant'\n",
    "data.loc[data['MECHANISM'] == 9, 'MECHANISM'] = 'MVT motorcyclist'\n",
    "data.loc[data['MECHANISM'] == 10, 'MECHANISM'] = 'MVT pedal cyclist'\n",
    "data.loc[data['MECHANISM'] == 11, 'MECHANISM'] = 'MVT pedestrian'\n",
    "data.loc[data['MECHANISM'] == 12, 'MECHANISM'] = 'Other transport or MVT'\n",
    "data.loc[data['MECHANISM'] == 13, 'MECHANISM'] = 'Other transport or MVT'\n",
    "data.loc[data['MECHANISM'] == 14, 'MECHANISM'] = 'Other pedal cyclist'\n",
    "data.loc[data['MECHANISM'] == 15, 'MECHANISM'] = 'Other pedestrian'\n",
    "data.loc[data['MECHANISM'] == 16, 'MECHANISM'] = 'Other transport or MVT'\n",
    "data.loc[data['MECHANISM'] == 17, 'MECHANISM'] = 'Natural or environmental'\n",
    "data.loc[data['MECHANISM'] == 18, 'MECHANISM'] = 'Natural or environmental'\n",
    "data.loc[data['MECHANISM'] == 19, 'MECHANISM'] = 'Other/unspecified/unknown'\n",
    "data.loc[data['MECHANISM'] == 20, 'MECHANISM'] = 'Other/unspecified/unknown'\n",
    "data.loc[data['MECHANISM'] == 21, 'MECHANISM'] = 'Struck by or against'\n",
    "data.loc[data['MECHANISM'] == 22, 'MECHANISM'] = 'Other/unspecified/unknown'\n",
    "data.loc[data['MECHANISM'] == 23, 'MECHANISM'] = 'Other/unspecified/unknown'\n",
    "data.loc[data['MECHANISM'] == 24, 'MECHANISM'] = 'Other/unspecified/unknown'\n",
    "data.loc[data['MECHANISM'] == 25, 'MECHANISM'] = 'Other/unspecified/unknown'\n",
    "data.loc[data['MECHANISM'] == 26, 'MECHANISM'] = 'Other/unspecified/unknown'\n",
    "data.loc[data['MECHANISM'] == 27, 'MECHANISM'] = 'Other/unspecified/unknown'\n",
    "data.loc[data['MECHANISM'] == 30, 'MECHANISM'] = 'Other pedestrian'\n",
    "data.loc[data['MECHANISM'] == 31, 'MECHANISM'] = 'Other/unspecified/unknown'\n",
    "data.loc[data['MECHANISM'] == 32, 'MECHANISM'] = 'Other/unspecified/unknown'\n",
    "data['MECHANISM'] = data['MECHANISM'].fillna('Other/unspecified/unknown')\n",
    "\n",
    "\n",
    "data['MECHANISM'].value_counts(normalize=False, dropna=False)"
   ]
  },
  {
   "cell_type": "code",
   "execution_count": null,
   "id": "n66eyHHmNjZP",
   "metadata": {
    "colab": {
     "base_uri": "https://localhost:8080/"
    },
    "executionInfo": {
     "elapsed": 46,
     "status": "ok",
     "timestamp": 1684417012778,
     "user": {
      "displayName": "Mert Karabacak",
      "userId": "14308977132914475412"
     },
     "user_tz": 240
    },
    "id": "n66eyHHmNjZP",
    "outputId": "686156bf-b544-486f-bba6-83559c9d5fe4"
   },
   "outputs": [],
   "source": [
    "#Change response values to strings for 'PROTDEV_AIRBAG_PRESENT'.\n",
    "\n",
    "data.loc[data['PROTDEV_AIRBAG_PRESENT'] == 1, 'PROTDEV_AIRBAG_PRESENT'] = 'Present'\n",
    "data.loc[data['PROTDEV_AIRBAG_PRESENT'] == 0, 'PROTDEV_AIRBAG_PRESENT'] = 'Non-present/non-MVT injury'\n",
    "\n",
    "data['PROTDEV_AIRBAG_PRESENT'] = data['PROTDEV_AIRBAG_PRESENT'].fillna('Non-present/non-MVT injury')\n",
    "\n",
    "data['PROTDEV_AIRBAG_PRESENT'].value_counts(normalize=False, dropna=False)"
   ]
  },
  {
   "cell_type": "code",
   "execution_count": null,
   "id": "xM8roTPjNkS_",
   "metadata": {
    "colab": {
     "base_uri": "https://localhost:8080/"
    },
    "executionInfo": {
     "elapsed": 36,
     "status": "ok",
     "timestamp": 1684417012778,
     "user": {
      "displayName": "Mert Karabacak",
      "userId": "14308977132914475412"
     },
     "user_tz": 240
    },
    "id": "xM8roTPjNkS_",
    "outputId": "0e3ece26-bfca-44c8-f432-f9b1be9eb0e0"
   },
   "outputs": [],
   "source": [
    "#Change response values to strings for 'PROTDEV_CHILD_RESTRAINT'.\n",
    "\n",
    "data.loc[data['PROTDEV_CHILD_RESTRAINT'] == 1, 'PROTDEV_CHILD_RESTRAINT'] = 'Present'\n",
    "data.loc[data['PROTDEV_CHILD_RESTRAINT'] == 0, 'PROTDEV_CHILD_RESTRAINT'] = 'Non-present/non-MVT injury'\n",
    "\n",
    "data['PROTDEV_CHILD_RESTRAINT'] = data['PROTDEV_CHILD_RESTRAINT'].fillna('Non-present/non-MVT injury')\n",
    "\n",
    "data['PROTDEV_CHILD_RESTRAINT'].value_counts(normalize=False, dropna=False)"
   ]
  },
  {
   "cell_type": "code",
   "execution_count": null,
   "id": "dcU0sjHtNlIG",
   "metadata": {
    "colab": {
     "base_uri": "https://localhost:8080/"
    },
    "executionInfo": {
     "elapsed": 28,
     "status": "ok",
     "timestamp": 1684417012778,
     "user": {
      "displayName": "Mert Karabacak",
      "userId": "14308977132914475412"
     },
     "user_tz": 240
    },
    "id": "dcU0sjHtNlIG",
    "outputId": "80289929-7fd3-428c-dbe0-0ef58f72edc3"
   },
   "outputs": [],
   "source": [
    "#Change response values to strings for 'PROTDEV_LAP_BELT'.\n",
    "\n",
    "data.loc[data['PROTDEV_LAP_BELT'] == 1, 'PROTDEV_LAP_BELT'] = 'Present'\n",
    "data.loc[data['PROTDEV_LAP_BELT'] == 0, 'PROTDEV_LAP_BELT'] = 'Non-present/non-MVT injury'\n",
    "\n",
    "data['PROTDEV_LAP_BELT'] = data['PROTDEV_LAP_BELT'].fillna('Non-present/non-MVT injury')\n",
    "\n",
    "data['PROTDEV_LAP_BELT'].value_counts(normalize=False, dropna=False)"
   ]
  },
  {
   "cell_type": "code",
   "execution_count": null,
   "id": "U-RS_912NloP",
   "metadata": {
    "colab": {
     "base_uri": "https://localhost:8080/"
    },
    "executionInfo": {
     "elapsed": 23,
     "status": "ok",
     "timestamp": 1684417012778,
     "user": {
      "displayName": "Mert Karabacak",
      "userId": "14308977132914475412"
     },
     "user_tz": 240
    },
    "id": "U-RS_912NloP",
    "outputId": "97f2f144-0f04-42af-89f9-14c1beab85c6"
   },
   "outputs": [],
   "source": [
    "#Change response values to strings for 'PROTDEV_SHOULDER_BELT'.\n",
    "\n",
    "data.loc[data['PROTDEV_SHOULDER_BELT'] == 1, 'PROTDEV_SHOULDER_BELT'] = 'Present'\n",
    "data.loc[data['PROTDEV_SHOULDER_BELT'] == 0, 'PROTDEV_SHOULDER_BELT'] = 'Non-present/non-MVT injury'\n",
    "\n",
    "data['PROTDEV_SHOULDER_BELT'] = data['PROTDEV_SHOULDER_BELT'].fillna('Non-present/non-MVT injury')\n",
    "\n",
    "data['PROTDEV_SHOULDER_BELT'].value_counts(normalize=False, dropna=False)"
   ]
  },
  {
   "cell_type": "code",
   "execution_count": null,
   "id": "o0dxeVAANndz",
   "metadata": {
    "colab": {
     "base_uri": "https://localhost:8080/"
    },
    "executionInfo": {
     "elapsed": 18,
     "status": "ok",
     "timestamp": 1684417012778,
     "user": {
      "displayName": "Mert Karabacak",
      "userId": "14308977132914475412"
     },
     "user_tz": 240
    },
    "id": "o0dxeVAANndz",
    "outputId": "c4ac1e15-22c8-45af-eea2-23890b537f92"
   },
   "outputs": [],
   "source": [
    "#Change response values to strings for 'PROTDEV_HELMET'.\n",
    "\n",
    "data.loc[data['PROTDEV_HELMET'] == 1, 'PROTDEV_HELMET'] = 'Present'\n",
    "data.loc[data['PROTDEV_HELMET'] == 0, 'PROTDEV_HELMET'] = 'Non-present/non-MVT injury'\n",
    "\n",
    "data['PROTDEV_HELMET'] = data['PROTDEV_HELMET'].fillna('Non-present/non-MVT injury')\n",
    "\n",
    "data['PROTDEV_HELMET'].value_counts(normalize=False, dropna=False)"
   ]
  },
  {
   "cell_type": "code",
   "execution_count": null,
   "id": "o7FolQt7QMEu",
   "metadata": {
    "colab": {
     "base_uri": "https://localhost:8080/"
    },
    "executionInfo": {
     "elapsed": 14,
     "status": "ok",
     "timestamp": 1684417012778,
     "user": {
      "displayName": "Mert Karabacak",
      "userId": "14308977132914475412"
     },
     "user_tz": 240
    },
    "id": "o7FolQt7QMEu",
    "outputId": "8def455a-8f98-4574-e556-409bed3dfc85"
   },
   "outputs": [],
   "source": [
    "#Merge 'PATIENTSOCCUPATION' and 'WORKRELATED' and change response values to strings for.\n",
    "\n",
    "data.loc[data['WORKRELATED'] == 2, 'WORKRELATED'] = 'No'\n",
    "data.loc[data['WORKRELATED'] == 1, 'WORKRELATED'] = 'Yes'\n",
    "\n",
    "data['WORKRELATED'].value_counts(normalize=False, dropna=False)"
   ]
  },
  {
   "cell_type": "code",
   "execution_count": null,
   "id": "3Y4VfnJWPITw",
   "metadata": {
    "colab": {
     "base_uri": "https://localhost:8080/"
    },
    "executionInfo": {
     "elapsed": 10,
     "status": "ok",
     "timestamp": 1684417012778,
     "user": {
      "displayName": "Mert Karabacak",
      "userId": "14308977132914475412"
     },
     "user_tz": 240
    },
    "id": "3Y4VfnJWPITw",
    "outputId": "3d5664de-a1dd-410e-c03f-58434eb75a2b"
   },
   "outputs": [],
   "source": [
    "#Merge ICP columns and drop former columns.\n",
    "\n",
    "data.loc[data['ICPEVDRAIN'] == 1, 'ICP'] = 'Intraventricular drain/catheter'\n",
    "data.loc[data['ICPJVBULB'] == 1, 'ICP'] = 'Jugular venous bulb'\n",
    "data.loc[data['ICPO2MONITOR'] == 1, 'ICP'] = 'Intraparenchymal oxygen/pressure monitor'\n",
    "data.loc[data['ICPPARENCH'] == 1, 'ICP'] = 'Intraparenchymal oxygen/pressure monitor'\n",
    "data.loc[data['ICPNONE'] == 1, 'ICP'] = 'None'\n",
    "\n",
    "data = data.drop(columns=['ICPEVDRAIN', 'ICPJVBULB', 'ICPO2MONITOR', 'ICPPARENCH', 'ICPNONE'])\n",
    "\n",
    "data['ICP'].value_counts(normalize=False, dropna=False)"
   ]
  },
  {
   "cell_type": "code",
   "execution_count": null,
   "id": "i30Jfx3f831V",
   "metadata": {
    "colab": {
     "base_uri": "https://localhost:8080/"
    },
    "executionInfo": {
     "elapsed": 438,
     "status": "ok",
     "timestamp": 1684417013210,
     "user": {
      "displayName": "Mert Karabacak",
      "userId": "14308977132914475412"
     },
     "user_tz": 240
    },
    "id": "i30Jfx3f831V",
    "outputId": "09fe784d-cde8-4c04-919f-e62370f1af5b"
   },
   "outputs": [],
   "source": [
    "#Change response values to strings for 'ANTIBIOTICTHERAPY'.\n",
    "\n",
    "data.loc[data['ANTIBIOTICTHERAPY'] == 1, 'ANTIBIOTICTHERAPY'] = 'Yes'\n",
    "data.loc[data['ANTIBIOTICTHERAPY'] == 2, 'ANTIBIOTICTHERAPY'] = 'No'\n",
    "\n",
    "data['ANTIBIOTICTHERAPY'].value_counts(normalize=False, dropna=False)"
   ]
  },
  {
   "cell_type": "code",
   "execution_count": null,
   "id": "nN962Wwq8Su1",
   "metadata": {
    "colab": {
     "base_uri": "https://localhost:8080/"
    },
    "executionInfo": {
     "elapsed": 57,
     "status": "ok",
     "timestamp": 1684417013211,
     "user": {
      "displayName": "Mert Karabacak",
      "userId": "14308977132914475412"
     },
     "user_tz": 240
    },
    "id": "nN962Wwq8Su1",
    "outputId": "120c42e3-be4c-4add-9163-d2975ab9c202"
   },
   "outputs": [],
   "source": [
    "#Change response values to strings for 'ALCOHOLSCREEN'.\n",
    "\n",
    "data.loc[data['ALCOHOLSCREEN'] == 1, 'ALCOHOLSCREEN'] = 'Yes'\n",
    "data.loc[data['ALCOHOLSCREEN'] == 2, 'ALCOHOLSCREEN'] = 'No'\n",
    "\n",
    "data['ALCOHOLSCREEN'].value_counts(normalize=False, dropna=False)"
   ]
  },
  {
   "cell_type": "code",
   "execution_count": null,
   "id": "kzR17lAZ3waR",
   "metadata": {
    "executionInfo": {
     "elapsed": 56,
     "status": "ok",
     "timestamp": 1684417013211,
     "user": {
      "displayName": "Mert Karabacak",
      "userId": "14308977132914475412"
     },
     "user_tz": 240
    },
    "id": "kzR17lAZ3waR"
   },
   "outputs": [],
   "source": [
    "#Assign '0' for patients who were not screened for alcohol.\n",
    "\n",
    "data['ALCOHOLSCREENRESULT'] = data['ALCOHOLSCREENRESULT'].fillna(0)"
   ]
  },
  {
   "cell_type": "code",
   "execution_count": null,
   "id": "5bmht_z092ck",
   "metadata": {
    "colab": {
     "base_uri": "https://localhost:8080/"
    },
    "executionInfo": {
     "elapsed": 55,
     "status": "ok",
     "timestamp": 1684417013211,
     "user": {
      "displayName": "Mert Karabacak",
      "userId": "14308977132914475412"
     },
     "user_tz": 240
    },
    "id": "5bmht_z092ck",
    "outputId": "678363a7-14f7-459d-a7ed-1a09c9063708"
   },
   "outputs": [],
   "source": [
    "#Change response values to strings for 'DRGSCR_AMPHETAMINE'.\n",
    "\n",
    "data.loc[data['DRGSCR_AMPHETAMINE'] == 1, 'DRGSCR_AMPHETAMINE'] = 'Yes'\n",
    "data.loc[data['DRGSCR_AMPHETAMINE'] == 0, 'DRGSCR_AMPHETAMINE'] = 'No'\n",
    "data.loc[data['DRGSCR_NOTTESTED'] == 1, 'DRGSCR_AMPHETAMINE'] = 'Not tested'\n",
    "data['DRGSCR_AMPHETAMINE'] = data['DRGSCR_AMPHETAMINE'].fillna('Not tested')\n",
    "\n",
    "data['DRGSCR_AMPHETAMINE'].value_counts(normalize=False, dropna=False)"
   ]
  },
  {
   "cell_type": "code",
   "execution_count": null,
   "id": "GmupSUsZ_xz-",
   "metadata": {
    "colab": {
     "base_uri": "https://localhost:8080/"
    },
    "executionInfo": {
     "elapsed": 49,
     "status": "ok",
     "timestamp": 1684417013211,
     "user": {
      "displayName": "Mert Karabacak",
      "userId": "14308977132914475412"
     },
     "user_tz": 240
    },
    "id": "GmupSUsZ_xz-",
    "outputId": "a30395ff-a1e3-4360-b74d-ffdc9b867b00"
   },
   "outputs": [],
   "source": [
    "#Change response values to strings for 'DRGSCR_BARBITURATE'.\n",
    "\n",
    "data.loc[data['DRGSCR_BARBITURATE'] == 1, 'DRGSCR_BARBITURATE'] = 'Yes'\n",
    "data.loc[data['DRGSCR_BARBITURATE'] == 0, 'DRGSCR_BARBITURATE'] = 'No'\n",
    "data.loc[data['DRGSCR_NOTTESTED'] == 1, 'DRGSCR_BARBITURATE'] = 'Not tested'\n",
    "data['DRGSCR_BARBITURATE'] = data['DRGSCR_BARBITURATE'].fillna('Not tested')\n",
    "\n",
    "data['DRGSCR_BARBITURATE'].value_counts(normalize=False, dropna=False)"
   ]
  },
  {
   "cell_type": "code",
   "execution_count": null,
   "id": "65F5OAAg_2-k",
   "metadata": {
    "colab": {
     "base_uri": "https://localhost:8080/"
    },
    "executionInfo": {
     "elapsed": 43,
     "status": "ok",
     "timestamp": 1684417013211,
     "user": {
      "displayName": "Mert Karabacak",
      "userId": "14308977132914475412"
     },
     "user_tz": 240
    },
    "id": "65F5OAAg_2-k",
    "outputId": "3e1e4ca1-8d9f-4fab-8d6d-d95c769a8294"
   },
   "outputs": [],
   "source": [
    "#Change response values to strings for 'DRGSCR_BENZODIAZEPINES'.\n",
    "\n",
    "data.loc[data['DRGSCR_BENZODIAZEPINES'] == 1, 'DRGSCR_BENZODIAZEPINES'] = 'Yes'\n",
    "data.loc[data['DRGSCR_BENZODIAZEPINES'] == 0, 'DRGSCR_BENZODIAZEPINES'] = 'No'\n",
    "data.loc[data['DRGSCR_NOTTESTED'] == 1, 'DRGSCR_BENZODIAZEPINES'] = 'Not tested'\n",
    "data['DRGSCR_BENZODIAZEPINES'] = data['DRGSCR_BENZODIAZEPINES'].fillna('Not tested')\n",
    "\n",
    "data['DRGSCR_BENZODIAZEPINES'].value_counts(normalize=False, dropna=False)"
   ]
  },
  {
   "cell_type": "code",
   "execution_count": null,
   "id": "zuktid0N_---",
   "metadata": {
    "colab": {
     "base_uri": "https://localhost:8080/"
    },
    "executionInfo": {
     "elapsed": 38,
     "status": "ok",
     "timestamp": 1684417013211,
     "user": {
      "displayName": "Mert Karabacak",
      "userId": "14308977132914475412"
     },
     "user_tz": 240
    },
    "id": "zuktid0N_---",
    "outputId": "0ba1250f-7f5c-493a-873a-302f22ca85d8"
   },
   "outputs": [],
   "source": [
    "#Change response values to strings for 'DRGSCR_CANNABINOID'.\n",
    "\n",
    "data.loc[data['DRGSCR_CANNABINOID'] == 1, 'DRGSCR_CANNABINOID'] = 'Yes'\n",
    "data.loc[data['DRGSCR_CANNABINOID'] == 0, 'DRGSCR_CANNABINOID'] = 'No'\n",
    "data.loc[data['DRGSCR_NOTTESTED'] == 1, 'DRGSCR_CANNABINOID'] = 'Not tested'\n",
    "data['DRGSCR_CANNABINOID'] = data['DRGSCR_CANNABINOID'].fillna('Not tested')\n",
    "\n",
    "data['DRGSCR_CANNABINOID'].value_counts(normalize=False, dropna=False)"
   ]
  },
  {
   "cell_type": "code",
   "execution_count": null,
   "id": "Tqu5oqj4AIQ3",
   "metadata": {
    "colab": {
     "base_uri": "https://localhost:8080/"
    },
    "executionInfo": {
     "elapsed": 34,
     "status": "ok",
     "timestamp": 1684417013211,
     "user": {
      "displayName": "Mert Karabacak",
      "userId": "14308977132914475412"
     },
     "user_tz": 240
    },
    "id": "Tqu5oqj4AIQ3",
    "outputId": "830c40ae-7705-4b74-9c2d-16bd9aa901cb"
   },
   "outputs": [],
   "source": [
    "#Change response values to strings for 'DRGSCR_COCAINE'.\n",
    "\n",
    "data.loc[data['DRGSCR_COCAINE'] == 1, 'DRGSCR_COCAINE'] = 'Yes'\n",
    "data.loc[data['DRGSCR_COCAINE'] == 0, 'DRGSCR_COCAINE'] = 'No'\n",
    "data.loc[data['DRGSCR_NOTTESTED'] == 1, 'DRGSCR_COCAINE'] = 'Not tested'\n",
    "data['DRGSCR_COCAINE'] = data['DRGSCR_COCAINE'].fillna('Not tested')\n",
    "\n",
    "data['DRGSCR_COCAINE'].value_counts(normalize=False, dropna=False)"
   ]
  },
  {
   "cell_type": "code",
   "execution_count": null,
   "id": "LgOex_gbAOe6",
   "metadata": {
    "colab": {
     "base_uri": "https://localhost:8080/"
    },
    "executionInfo": {
     "elapsed": 30,
     "status": "ok",
     "timestamp": 1684417013212,
     "user": {
      "displayName": "Mert Karabacak",
      "userId": "14308977132914475412"
     },
     "user_tz": 240
    },
    "id": "LgOex_gbAOe6",
    "outputId": "e136cf99-7e94-48a5-e5ce-6a68d58148fa"
   },
   "outputs": [],
   "source": [
    "#Change response values to strings for 'DRGSCR_ECSTASY'.\n",
    "\n",
    "data.loc[data['DRGSCR_ECSTASY'] == 1, 'DRGSCR_ECSTASY'] = 'Yes'\n",
    "data.loc[data['DRGSCR_ECSTASY'] == 0, 'DRGSCR_ECSTASY'] = 'No'\n",
    "data.loc[data['DRGSCR_NOTTESTED'] == 1, 'DRGSCR_ECSTASY'] = 'Not tested'\n",
    "data['DRGSCR_ECSTASY'] = data['DRGSCR_ECSTASY'].fillna('Not tested')\n",
    "\n",
    "data['DRGSCR_ECSTASY'].value_counts(normalize=False, dropna=False)"
   ]
  },
  {
   "cell_type": "code",
   "execution_count": null,
   "id": "E286OVCLATA7",
   "metadata": {
    "colab": {
     "base_uri": "https://localhost:8080/"
    },
    "executionInfo": {
     "elapsed": 26,
     "status": "ok",
     "timestamp": 1684417013212,
     "user": {
      "displayName": "Mert Karabacak",
      "userId": "14308977132914475412"
     },
     "user_tz": 240
    },
    "id": "E286OVCLATA7",
    "outputId": "ef45e66f-94e6-4f44-d1db-76fb4a5f2298"
   },
   "outputs": [],
   "source": [
    "#Change response values to strings for 'DRGSCR_METHADONE'.\n",
    "\n",
    "data.loc[data['DRGSCR_METHADONE'] == 1, 'DRGSCR_METHADONE'] = 'Yes'\n",
    "data.loc[data['DRGSCR_METHADONE'] == 0, 'DRGSCR_METHADONE'] = 'No'\n",
    "data.loc[data['DRGSCR_NOTTESTED'] == 1, 'DRGSCR_METHADONE'] = 'Not tested'\n",
    "data['DRGSCR_METHADONE'] = data['DRGSCR_METHADONE'].fillna('Not tested')\n",
    "\n",
    "data['DRGSCR_METHADONE'].value_counts(normalize=False, dropna=False)"
   ]
  },
  {
   "cell_type": "code",
   "execution_count": null,
   "id": "fchDBFefC28W",
   "metadata": {
    "colab": {
     "base_uri": "https://localhost:8080/"
    },
    "executionInfo": {
     "elapsed": 22,
     "status": "ok",
     "timestamp": 1684417013212,
     "user": {
      "displayName": "Mert Karabacak",
      "userId": "14308977132914475412"
     },
     "user_tz": 240
    },
    "id": "fchDBFefC28W",
    "outputId": "4393154d-ea42-4e07-f6e2-a3362d290e54"
   },
   "outputs": [],
   "source": [
    "#Change response values to strings for 'DRGSCR_METHAMPHETAMINE'.\n",
    "\n",
    "data.loc[data['DRGSCR_METHAMPHETAMINE'] == 1, 'DRGSCR_METHAMPHETAMINE'] = 'Yes'\n",
    "data.loc[data['DRGSCR_METHAMPHETAMINE'] == 0, 'DRGSCR_METHAMPHETAMINE'] = 'No'\n",
    "data.loc[data['DRGSCR_NOTTESTED'] == 1, 'DRGSCR_METHAMPHETAMINE'] = 'Not tested'\n",
    "data['DRGSCR_METHAMPHETAMINE'] = data['DRGSCR_METHAMPHETAMINE'].fillna('Not tested')\n",
    "\n",
    "data['DRGSCR_METHAMPHETAMINE'].value_counts(normalize=False, dropna=False)"
   ]
  },
  {
   "cell_type": "code",
   "execution_count": null,
   "id": "3agU37uNDH3i",
   "metadata": {
    "colab": {
     "base_uri": "https://localhost:8080/"
    },
    "executionInfo": {
     "elapsed": 18,
     "status": "ok",
     "timestamp": 1684417013212,
     "user": {
      "displayName": "Mert Karabacak",
      "userId": "14308977132914475412"
     },
     "user_tz": 240
    },
    "id": "3agU37uNDH3i",
    "outputId": "aefbb790-78b9-4c5f-ada8-0a7e8c3d7be9"
   },
   "outputs": [],
   "source": [
    "#Change response values to strings for 'DRGSCR_OPIOID'.\n",
    "\n",
    "data.loc[data['DRGSCR_OPIOID'] == 1, 'DRGSCR_OPIOID'] = 'Yes'\n",
    "data.loc[data['DRGSCR_OPIOID'] == 0, 'DRGSCR_OPIOID'] = 'No'\n",
    "data.loc[data['DRGSCR_NOTTESTED'] == 1, 'DRGSCR_OPIOID'] = 'Not tested'\n",
    "data['DRGSCR_OPIOID'] = data['DRGSCR_OPIOID'].fillna('Not tested')\n",
    "\n",
    "data['DRGSCR_OPIOID'].value_counts(normalize=False, dropna=False)"
   ]
  },
  {
   "cell_type": "code",
   "execution_count": null,
   "id": "NRBKhCW5De-X",
   "metadata": {
    "colab": {
     "base_uri": "https://localhost:8080/"
    },
    "executionInfo": {
     "elapsed": 14,
     "status": "ok",
     "timestamp": 1684417013212,
     "user": {
      "displayName": "Mert Karabacak",
      "userId": "14308977132914475412"
     },
     "user_tz": 240
    },
    "id": "NRBKhCW5De-X",
    "outputId": "9a4de6c5-b57c-4b20-af6d-fcdf291a0710"
   },
   "outputs": [],
   "source": [
    "#Change response values to strings for 'DRGSCR_OXYCODONE'.\n",
    "\n",
    "data.loc[data['DRGSCR_OXYCODONE'] == 1, 'DRGSCR_OXYCODONE'] = 'Yes'\n",
    "data.loc[data['DRGSCR_OXYCODONE'] == 0, 'DRGSCR_OXYCODONE'] = 'No'\n",
    "data.loc[data['DRGSCR_NOTTESTED'] == 1, 'DRGSCR_OXYCODONE'] = 'Not tested'\n",
    "data['DRGSCR_OXYCODONE'] = data['DRGSCR_OXYCODONE'].fillna('Not tested')\n",
    "\n",
    "data['DRGSCR_OXYCODONE'].value_counts(normalize=False, dropna=False)"
   ]
  },
  {
   "cell_type": "code",
   "execution_count": null,
   "id": "zYEUk1vLDkdX",
   "metadata": {
    "colab": {
     "base_uri": "https://localhost:8080/"
    },
    "executionInfo": {
     "elapsed": 11,
     "status": "ok",
     "timestamp": 1684417013212,
     "user": {
      "displayName": "Mert Karabacak",
      "userId": "14308977132914475412"
     },
     "user_tz": 240
    },
    "id": "zYEUk1vLDkdX",
    "outputId": "f8a7ae61-52f2-4e48-d4c1-6f33ad3cc31a"
   },
   "outputs": [],
   "source": [
    "#Change response values to strings for 'DRGSCR_PHENCYCLIDINE'.\n",
    "\n",
    "data.loc[data['DRGSCR_PHENCYCLIDINE'] == 1, 'DRGSCR_PHENCYCLIDINE'] = 'Yes'\n",
    "data.loc[data['DRGSCR_PHENCYCLIDINE'] == 0, 'DRGSCR_PHENCYCLIDINE'] = 'No'\n",
    "data.loc[data['DRGSCR_NOTTESTED'] == 1, 'DRGSCR_PHENCYCLIDINE'] = 'Not tested'\n",
    "data['DRGSCR_PHENCYCLIDINE'] = data['DRGSCR_PHENCYCLIDINE'].fillna('Not tested')\n",
    "\n",
    "data['DRGSCR_PHENCYCLIDINE'].value_counts(normalize=False, dropna=False)"
   ]
  },
  {
   "cell_type": "code",
   "execution_count": null,
   "id": "pOllgkarD1by",
   "metadata": {
    "colab": {
     "base_uri": "https://localhost:8080/"
    },
    "executionInfo": {
     "elapsed": 7,
     "status": "ok",
     "timestamp": 1684417013212,
     "user": {
      "displayName": "Mert Karabacak",
      "userId": "14308977132914475412"
     },
     "user_tz": 240
    },
    "id": "pOllgkarD1by",
    "outputId": "176735c3-124a-4f6a-843d-c746852dfda5"
   },
   "outputs": [],
   "source": [
    "#Change response values to strings for 'DRGSCR_TRICYCLICDEPRESS'.\n",
    "\n",
    "data.loc[data['DRGSCR_TRICYCLICDEPRESS'] == 1, 'DRGSCR_TRICYCLICDEPRESS'] = 'Yes'\n",
    "data.loc[data['DRGSCR_TRICYCLICDEPRESS'] == 0, 'DRGSCR_TRICYCLICDEPRESS'] = 'No'\n",
    "data.loc[data['DRGSCR_NOTTESTED'] == 1, 'DRGSCR_TRICYCLICDEPRESS'] = 'Not tested'\n",
    "data['DRGSCR_TRICYCLICDEPRESS'] = data['DRGSCR_TRICYCLICDEPRESS'].fillna('Not tested')\n",
    "\n",
    "data['DRGSCR_TRICYCLICDEPRESS'].value_counts(normalize=False, dropna=False)"
   ]
  },
  {
   "cell_type": "code",
   "execution_count": null,
   "id": "2Fq1CMEaEIQA",
   "metadata": {
    "executionInfo": {
     "elapsed": 302,
     "status": "ok",
     "timestamp": 1684417013510,
     "user": {
      "displayName": "Mert Karabacak",
      "userId": "14308977132914475412"
     },
     "user_tz": 240
    },
    "id": "2Fq1CMEaEIQA"
   },
   "outputs": [],
   "source": [
    "#Drop 'DRGSCR_NOTTESTED' since it will not be utilized from this point.\n",
    "\n",
    "data = data.drop(columns=['DRGSCR_NOTTESTED'])"
   ]
  },
  {
   "cell_type": "code",
   "execution_count": null,
   "id": "jHFfbEReXuNt",
   "metadata": {
    "colab": {
     "base_uri": "https://localhost:8080/"
    },
    "executionInfo": {
     "elapsed": 7,
     "status": "ok",
     "timestamp": 1684417013511,
     "user": {
      "displayName": "Mert Karabacak",
      "userId": "14308977132914475412"
     },
     "user_tz": 240
    },
    "id": "jHFfbEReXuNt",
    "outputId": "24531321-a125-4bd4-de25-f9a5812d9f6c"
   },
   "outputs": [],
   "source": [
    "#Change response values to strings for 'VERIFICATIONLEVEL'.\n",
    "\n",
    "data.loc[data['VERIFICATIONLEVEL'] == 1, 'VERIFICATIONLEVEL'] = 'Level I Trauma Center'\n",
    "data.loc[data['VERIFICATIONLEVEL'] == 2, 'VERIFICATIONLEVEL'] = 'Level II Trauma Center'\n",
    "data.loc[data['VERIFICATIONLEVEL'] == 3, 'VERIFICATIONLEVEL'] = 'Level III Trauma Center'\n",
    "\n",
    "data['VERIFICATIONLEVEL'] = data['VERIFICATIONLEVEL'].fillna('Unknown')\n",
    "\n",
    "data['VERIFICATIONLEVEL'].value_counts(normalize=False, dropna=False)"
   ]
  },
  {
   "cell_type": "code",
   "execution_count": null,
   "id": "lnbdSTCEO5wj",
   "metadata": {
    "colab": {
     "base_uri": "https://localhost:8080/"
    },
    "executionInfo": {
     "elapsed": 6,
     "status": "ok",
     "timestamp": 1684417013511,
     "user": {
      "displayName": "Mert Karabacak",
      "userId": "14308977132914475412"
     },
     "user_tz": 240
    },
    "id": "lnbdSTCEO5wj",
    "outputId": "d602f1a1-e42f-4a83-f483-ec37dd5cfb43"
   },
   "outputs": [],
   "source": [
    "#Change response values to strings for 'HOSPITALTYPE'.\n",
    "\n",
    "data.loc[data['HOSPITALTYPE'] == 1, 'HOSPITALTYPE'] = 'For profit'\n",
    "data.loc[data['HOSPITALTYPE'] == 2, 'HOSPITALTYPE'] = 'Non-profit'\n",
    "data.loc[data['HOSPITALTYPE'] == 3, 'HOSPITALTYPE'] = 'Government'\n",
    "\n",
    "data['HOSPITALTYPE'].value_counts(normalize=False, dropna=False)"
   ]
  },
  {
   "cell_type": "code",
   "execution_count": null,
   "id": "2wvciVTF8Jwf",
   "metadata": {
    "colab": {
     "base_uri": "https://localhost:8080/"
    },
    "executionInfo": {
     "elapsed": 466,
     "status": "ok",
     "timestamp": 1684417013975,
     "user": {
      "displayName": "Mert Karabacak",
      "userId": "14308977132914475412"
     },
     "user_tz": 240
    },
    "id": "2wvciVTF8Jwf",
    "outputId": "8208e49c-7493-45d5-ba4b-a29bfaca2e4d"
   },
   "outputs": [],
   "source": [
    "#Change response values to strings for 'BEDSIZE'.\n",
    "\n",
    "data.loc[data['BEDSIZE'] == 1, 'BEDSIZE'] = '200 or fewer'\n",
    "data.loc[data['BEDSIZE'] == 2, 'BEDSIZE'] = '201 to 400'\n",
    "data.loc[data['BEDSIZE'] == 3, 'BEDSIZE'] = '401 to 600'\n",
    "data.loc[data['BEDSIZE'] == 4, 'BEDSIZE'] = 'More than 600'\n",
    "\n",
    "data['BEDSIZE'] = data['BEDSIZE'].fillna('200 or fewer')\n",
    "\n",
    "data['BEDSIZE'].value_counts(normalize=False, dropna=False)"
   ]
  },
  {
   "cell_type": "code",
   "execution_count": null,
   "id": "FImYST0ASgFO",
   "metadata": {
    "colab": {
     "base_uri": "https://localhost:8080/"
    },
    "executionInfo": {
     "elapsed": 14,
     "status": "ok",
     "timestamp": 1684417013975,
     "user": {
      "displayName": "Mert Karabacak",
      "userId": "14308977132914475412"
     },
     "user_tz": 240
    },
    "id": "FImYST0ASgFO",
    "outputId": "5df975f6-0472-4233-b053-7326d2a162b0"
   },
   "outputs": [],
   "source": [
    "#Change response values to strings for 'PRIMARYMETHODPAYMENT'.\n",
    "\n",
    "data.loc[data['PRIMARYMETHODPAYMENT'] == 1, 'PRIMARYMETHODPAYMENT'] = 'Medicaid'\n",
    "data.loc[data['PRIMARYMETHODPAYMENT'] == 2, 'PRIMARYMETHODPAYMENT'] = 'Not billed'\n",
    "data.loc[data['PRIMARYMETHODPAYMENT'] == 3, 'PRIMARYMETHODPAYMENT'] = 'Self-pay'\n",
    "data.loc[data['PRIMARYMETHODPAYMENT'] == 4, 'PRIMARYMETHODPAYMENT'] = 'Private/commercial insurance'\n",
    "data.loc[data['PRIMARYMETHODPAYMENT'] == 6, 'PRIMARYMETHODPAYMENT'] = 'Medicare'\n",
    "data.loc[data['PRIMARYMETHODPAYMENT'] == 7, 'PRIMARYMETHODPAYMENT'] = 'Other/unknown'\n",
    "data.loc[data['PRIMARYMETHODPAYMENT'] == 10, 'PRIMARYMETHODPAYMENT'] = 'Other/unknown'\n",
    "data['PRIMARYMETHODPAYMENT'] = data['PRIMARYMETHODPAYMENT'].fillna('Other/unknown')\n",
    "\n",
    "data['PRIMARYMETHODPAYMENT'].value_counts(normalize=False, dropna=False)"
   ]
  },
  {
   "cell_type": "code",
   "execution_count": null,
   "id": "wzfD3AuWJBHL",
   "metadata": {
    "colab": {
     "base_uri": "https://localhost:8080/"
    },
    "executionInfo": {
     "elapsed": 1451,
     "status": "ok",
     "timestamp": 1684417015423,
     "user": {
      "displayName": "Mert Karabacak",
      "userId": "14308977132914475412"
     },
     "user_tz": 240
    },
    "id": "wzfD3AuWJBHL",
    "outputId": "9fcd3652-f7c7-4fd9-f209-bcf5a6c8b06d"
   },
   "outputs": [],
   "source": [
    "#Change response values to strings for 'HOSPDISCHARGEDISPOSITION'.\n",
    "\n",
    "data.loc[data['HOSPDISCHARGEDISPOSITION'] == 1, 'HOSPDISCHARGEDISPOSITION'] = 'Discharged/Transferred to a short-term general hospital for inpatient care'\n",
    "data.loc[data['HOSPDISCHARGEDISPOSITION'] == 2, 'HOSPDISCHARGEDISPOSITION'] = 'Discharged/Transferred to an Intermediate Care Facility (ICF)'\n",
    "data.loc[data['HOSPDISCHARGEDISPOSITION'] == 3, 'HOSPDISCHARGEDISPOSITION'] = 'Discharged/Transferred to home under care of organized home health service'\n",
    "data.loc[data['HOSPDISCHARGEDISPOSITION'] == 4, 'HOSPDISCHARGEDISPOSITION'] = 'Left against medical advice or discontinued care'\n",
    "data.loc[data['HOSPDISCHARGEDISPOSITION'] == 5, 'HOSPDISCHARGEDISPOSITION'] = 'Deceased/Expired'\n",
    "data.loc[data['HOSPDISCHARGEDISPOSITION'] == 6, 'HOSPDISCHARGEDISPOSITION'] = 'Discharged to home or self-care (routine discharge)'\n",
    "data.loc[data['HOSPDISCHARGEDISPOSITION'] == 7, 'HOSPDISCHARGEDISPOSITION'] = 'Discharged/Transferred to Skilled Nursing Facility (SNF)'\n",
    "data.loc[data['HOSPDISCHARGEDISPOSITION'] == 8, 'HOSPDISCHARGEDISPOSITION'] = 'Discharged/Transferred to hospice care'\n",
    "data.loc[data['HOSPDISCHARGEDISPOSITION'] == 10, 'HOSPDISCHARGEDISPOSITION'] = 'Discharged/Transferred to court/law enforcement.'\n",
    "data.loc[data['HOSPDISCHARGEDISPOSITION'] == 11, 'HOSPDISCHARGEDISPOSITION'] = 'Discharged/Transferred to inpatient rehab or designated unit'\n",
    "data.loc[data['HOSPDISCHARGEDISPOSITION'] == 12, 'HOSPDISCHARGEDISPOSITION'] = 'Discharged/Transferred to Long Term Care Hospital (LTCH)'\n",
    "data.loc[data['HOSPDISCHARGEDISPOSITION'] == 13, 'HOSPDISCHARGEDISPOSITION'] = 'Discharged/Transferred to a psychiatric hospital or psychiatric distinct part unit of a hospital'\n",
    "data.loc[data['HOSPDISCHARGEDISPOSITION'] == 14, 'HOSPDISCHARGEDISPOSITION'] = 'Discharged/Transferred to another type of institution not defined elsewhere'\n",
    "\n",
    "data['HOSPDISCHARGEDISPOSITION'].value_counts(normalize=False, dropna=False)"
   ]
  },
  {
   "cell_type": "code",
   "execution_count": null,
   "id": "6b72f120",
   "metadata": {
    "colab": {
     "base_uri": "https://localhost:8080/"
    },
    "executionInfo": {
     "elapsed": 27,
     "status": "ok",
     "timestamp": 1684417015424,
     "user": {
      "displayName": "Mert Karabacak",
      "userId": "14308977132914475412"
     },
     "user_tz": 240
    },
    "id": "6b72f120",
    "outputId": "f9642ca0-b4b1-4c54-9797-1286bc542cd3"
   },
   "outputs": [],
   "source": [
    "#Check data shape.\n",
    "\n",
    "data.shape"
   ]
  },
  {
   "cell_type": "markdown",
   "id": "6cBN-3YLftMd",
   "metadata": {
    "id": "6cBN-3YLftMd"
   },
   "source": [
    "#Exclusion Criteria"
   ]
  },
  {
   "cell_type": "code",
   "execution_count": null,
   "id": "6c426cf1-c714-425d-b996-38a92517dcd3",
   "metadata": {
    "colab": {
     "base_uri": "https://localhost:8080/"
    },
    "executionInfo": {
     "elapsed": 17,
     "status": "ok",
     "timestamp": 1684417015424,
     "user": {
      "displayName": "Mert Karabacak",
      "userId": "14308977132914475412"
     },
     "user_tz": 240
    },
    "id": "6c426cf1-c714-425d-b996-38a92517dcd3",
    "outputId": "de57905c-9b2b-40e1-fc2c-d6f58c788511"
   },
   "outputs": [],
   "source": [
    "#Exclude pediatric patients.\n",
    "\n",
    "before = data.shape[0]\n",
    "data = data[(data['AGEYEARS'] >= 18)]\n",
    "after = data.shape[0]\n",
    "excluded = before - after\n",
    "\n",
    "print('Number of patients before exclusion: ', before)\n",
    "print('Number of patients after exclusion: ', after)\n",
    "print('Number of patients excluded with this criteria: ', excluded)"
   ]
  },
  {
   "cell_type": "code",
   "execution_count": null,
   "id": "hRDjiNYQh1D4",
   "metadata": {
    "executionInfo": {
     "elapsed": 10,
     "status": "ok",
     "timestamp": 1684417015424,
     "user": {
      "displayName": "Mert Karabacak",
      "userId": "14308977132914475412"
     },
     "user_tz": 240
    },
    "id": "hRDjiNYQh1D4"
   },
   "outputs": [],
   "source": [
    "#Drop AIS injury severity scores head and neck (since they will not be used as exclusion criteria).\n",
    "\n",
    "data = data.drop(columns=['AISSEVERITY1'])\n",
    "data = data.drop(columns=['AISSEVERITY2'])"
   ]
  },
  {
   "cell_type": "code",
   "execution_count": null,
   "id": "tWJJU9QhhJGO",
   "metadata": {
    "colab": {
     "base_uri": "https://localhost:8080/"
    },
    "executionInfo": {
     "elapsed": 9,
     "status": "ok",
     "timestamp": 1684417015424,
     "user": {
      "displayName": "Mert Karabacak",
      "userId": "14308977132914475412"
     },
     "user_tz": 240
    },
    "id": "tWJJU9QhhJGO",
    "outputId": "423dc9ad-3642-42d2-c4f9-6fdc58d99590"
   },
   "outputs": [],
   "source": [
    "#Exclude AIS injury severity score ≥ 3 to neck.\n",
    "\n",
    "before = data.shape[0]\n",
    "data = data[data['AISSEVERITY3'] < 3]\n",
    "after = data.shape[0]\n",
    "excluded = before - after\n",
    "\n",
    "data = data.drop(columns=['AISSEVERITY3'])\n",
    "\n",
    "print('Number of patients before exclusion: ', before)\n",
    "print('Number of patients after exclusion: ', after)\n",
    "print('Number of patients excluded with this criteria: ', excluded)"
   ]
  },
  {
   "cell_type": "code",
   "execution_count": null,
   "id": "tpfzOauWf2z2",
   "metadata": {
    "colab": {
     "base_uri": "https://localhost:8080/"
    },
    "executionInfo": {
     "elapsed": 288,
     "status": "ok",
     "timestamp": 1684417015709,
     "user": {
      "displayName": "Mert Karabacak",
      "userId": "14308977132914475412"
     },
     "user_tz": 240
    },
    "id": "tpfzOauWf2z2",
    "outputId": "2941d08d-d5a6-44a3-96a0-d1542b7b3f4a"
   },
   "outputs": [],
   "source": [
    "#Exclude AIS injury severity score ≥ 3 to thorax.\n",
    "\n",
    "before = data.shape[0]\n",
    "data = data[data['AISSEVERITY4'] < 3]\n",
    "after = data.shape[0]\n",
    "excluded = before - after\n",
    "\n",
    "data = data.drop(columns=['AISSEVERITY4'])\n",
    "\n",
    "print('Number of patients before exclusion: ', before)\n",
    "print('Number of patients after exclusion: ', after)\n",
    "print('Number of patients excluded with this criteria: ', excluded)"
   ]
  },
  {
   "cell_type": "code",
   "execution_count": null,
   "id": "ENjixmvsgyWd",
   "metadata": {
    "colab": {
     "base_uri": "https://localhost:8080/"
    },
    "executionInfo": {
     "elapsed": 306,
     "status": "ok",
     "timestamp": 1684417016012,
     "user": {
      "displayName": "Mert Karabacak",
      "userId": "14308977132914475412"
     },
     "user_tz": 240
    },
    "id": "ENjixmvsgyWd",
    "outputId": "05e2e9dc-17e8-45f0-bec5-6eb66d8be6ed"
   },
   "outputs": [],
   "source": [
    "#Exclude AIS injury severity score ≥ 3 to abdomen.\n",
    "\n",
    "before = data.shape[0]\n",
    "data = data[data['AISSEVERITY5'] < 3]\n",
    "after = data.shape[0]\n",
    "excluded = before - after\n",
    "\n",
    "data = data.drop(columns=['AISSEVERITY5'])\n",
    "\n",
    "print('Number of patients before exclusion: ', before)\n",
    "print('Number of patients after exclusion: ', after)\n",
    "print('Number of patients excluded with this criteria: ', excluded)"
   ]
  },
  {
   "cell_type": "code",
   "execution_count": null,
   "id": "LedbHgbdgzvu",
   "metadata": {
    "colab": {
     "base_uri": "https://localhost:8080/"
    },
    "executionInfo": {
     "elapsed": 414,
     "status": "ok",
     "timestamp": 1684417016423,
     "user": {
      "displayName": "Mert Karabacak",
      "userId": "14308977132914475412"
     },
     "user_tz": 240
    },
    "id": "LedbHgbdgzvu",
    "outputId": "efda493a-2e2a-4c1e-efad-5aebc3c1016f"
   },
   "outputs": [],
   "source": [
    "#Exclude AIS injury severity score ≥ 3 to spine.\n",
    "\n",
    "before = data.shape[0]\n",
    "data = data[data['AISSEVERITY6'] < 3]\n",
    "after = data.shape[0]\n",
    "excluded = before - after\n",
    "\n",
    "data = data.drop(columns=['AISSEVERITY6'])\n",
    "\n",
    "print('Number of patients before exclusion: ', before)\n",
    "print('Number of patients after exclusion: ', after)\n",
    "print('Number of patients excluded with this criteria: ', excluded)"
   ]
  },
  {
   "cell_type": "code",
   "execution_count": null,
   "id": "QarqP-Mjheg9",
   "metadata": {
    "colab": {
     "base_uri": "https://localhost:8080/"
    },
    "executionInfo": {
     "elapsed": 1346,
     "status": "ok",
     "timestamp": 1684417017767,
     "user": {
      "displayName": "Mert Karabacak",
      "userId": "14308977132914475412"
     },
     "user_tz": 240
    },
    "id": "QarqP-Mjheg9",
    "outputId": "dc317a0c-036a-4c71-f7d1-1375ffaf7450"
   },
   "outputs": [],
   "source": [
    "#Exclude AIS injury severity score ≥ 3 to upper extremity.\n",
    "\n",
    "before = data.shape[0]\n",
    "data = data[data['AISSEVERITY7'] < 3]\n",
    "after = data.shape[0]\n",
    "excluded = before - after\n",
    "\n",
    "data = data.drop(columns=['AISSEVERITY7'])\n",
    "\n",
    "print('Number of patients before exclusion: ', before)\n",
    "print('Number of patients after exclusion: ', after)\n",
    "print('Number of patients excluded with this criteria: ', excluded)"
   ]
  },
  {
   "cell_type": "code",
   "execution_count": null,
   "id": "oDP3avAvhilo",
   "metadata": {
    "colab": {
     "base_uri": "https://localhost:8080/"
    },
    "executionInfo": {
     "elapsed": 17,
     "status": "ok",
     "timestamp": 1684417017767,
     "user": {
      "displayName": "Mert Karabacak",
      "userId": "14308977132914475412"
     },
     "user_tz": 240
    },
    "id": "oDP3avAvhilo",
    "outputId": "8c374a6c-3c80-4fa0-93f6-c8993495b491"
   },
   "outputs": [],
   "source": [
    "#Exclude AIS injury severity score ≥ 3 to lower extremity.\n",
    "\n",
    "before = data.shape[0]\n",
    "data = data[data['AISSEVERITY8'] < 3]\n",
    "after = data.shape[0]\n",
    "excluded = before - after\n",
    "\n",
    "data = data.drop(columns=['AISSEVERITY8'])\n",
    "\n",
    "print('Number of patients before exclusion: ', before)\n",
    "print('Number of patients after exclusion: ', after)\n",
    "print('Number of patients excluded with this criteria: ', excluded)"
   ]
  },
  {
   "cell_type": "code",
   "execution_count": null,
   "id": "2p4opQmRhlFj",
   "metadata": {
    "colab": {
     "base_uri": "https://localhost:8080/"
    },
    "executionInfo": {
     "elapsed": 13,
     "status": "ok",
     "timestamp": 1684417017768,
     "user": {
      "displayName": "Mert Karabacak",
      "userId": "14308977132914475412"
     },
     "user_tz": 240
    },
    "id": "2p4opQmRhlFj",
    "outputId": "48c2709d-de62-4c26-fa51-126925a7c2aa"
   },
   "outputs": [],
   "source": [
    "#Exclude AIS injury severity score ≥ 3 to unspecified body regions.\n",
    "\n",
    "before = data.shape[0]\n",
    "data = data[data['AISSEVERITY9'] < 3]\n",
    "after = data.shape[0]\n",
    "excluded = before - after\n",
    "\n",
    "data = data.drop(columns=['AISSEVERITY9'])\n",
    "\n",
    "print('Number of patients before exclusion: ', before)\n",
    "print('Number of patients after exclusion: ', after)\n",
    "print('Number of patients excluded with this criteria: ', excluded)"
   ]
  },
  {
   "cell_type": "code",
   "execution_count": null,
   "id": "vBAQEQ8thp5p",
   "metadata": {
    "colab": {
     "base_uri": "https://localhost:8080/"
    },
    "executionInfo": {
     "elapsed": 9,
     "status": "ok",
     "timestamp": 1684417017768,
     "user": {
      "displayName": "Mert Karabacak",
      "userId": "14308977132914475412"
     },
     "user_tz": 240
    },
    "id": "vBAQEQ8thp5p",
    "outputId": "37b39c85-140d-4050-cae9-ea1eb3c385fc"
   },
   "outputs": [],
   "source": [
    "#Exclude major polytrauma patients.\n",
    "\n",
    "before = data.shape[0]\n",
    "data = data[data['ISS'] < 27]\n",
    "after = data.shape[0]\n",
    "excluded = before - after\n",
    "\n",
    "data = data.drop(columns=['ISS'])\n",
    "\n",
    "print('Number of patients before exclusion: ', before)\n",
    "print('Number of patients after exclusion: ', after)\n",
    "print('Number of patients excluded with this criteria: ', excluded)"
   ]
  },
  {
   "cell_type": "code",
   "execution_count": null,
   "id": "sPHD5WNRMuAW",
   "metadata": {
    "colab": {
     "base_uri": "https://localhost:8080/"
    },
    "executionInfo": {
     "elapsed": 452,
     "status": "ok",
     "timestamp": 1684417018215,
     "user": {
      "displayName": "Mert Karabacak",
      "userId": "14308977132914475412"
     },
     "user_tz": 240
    },
    "id": "sPHD5WNRMuAW",
    "outputId": "d106b190-c8af-4323-888b-a910d1ac8a51"
   },
   "outputs": [],
   "source": [
    "#Exclude patients with ADLC.\n",
    "\n",
    "before = data.shape[0]\n",
    "data = data[data['CC_ADLC'] == 'No']\n",
    "after = data.shape[0]\n",
    "excluded = before - after\n",
    "\n",
    "data = data.drop(columns=['CC_ADLC'])\n",
    "\n",
    "print('Number of patients before exclusion: ', before)\n",
    "print('Number of patients after exclusion: ', after)\n",
    "print('Number of patients excluded with this criteria: ', excluded)"
   ]
  },
  {
   "cell_type": "code",
   "execution_count": null,
   "id": "xApljTsYN3Jc",
   "metadata": {
    "colab": {
     "base_uri": "https://localhost:8080/"
    },
    "executionInfo": {
     "elapsed": 8,
     "status": "ok",
     "timestamp": 1684417018215,
     "user": {
      "displayName": "Mert Karabacak",
      "userId": "14308977132914475412"
     },
     "user_tz": 240
    },
    "id": "xApljTsYN3Jc",
    "outputId": "95cf9a2c-22dd-41e6-a3cc-586bc1836d3d"
   },
   "outputs": [],
   "source": [
    "#Exclude patients with ADLC.\n",
    "\n",
    "before = data.shape[0]\n",
    "data = data[data['PREHOSPITALCARDIACARREST'] == 'No']\n",
    "after = data.shape[0]\n",
    "excluded = before - after\n",
    "\n",
    "data = data.drop(columns=['PREHOSPITALCARDIACARREST'])\n",
    "\n",
    "print('Number of patients before exclusion: ', before)\n",
    "print('Number of patients after exclusion: ', after)\n",
    "print('Number of patients excluded with this criteria: ', excluded)"
   ]
  },
  {
   "cell_type": "code",
   "execution_count": null,
   "id": "64EJjOTMpehN",
   "metadata": {
    "colab": {
     "base_uri": "https://localhost:8080/"
    },
    "executionInfo": {
     "elapsed": 8,
     "status": "ok",
     "timestamp": 1684417018216,
     "user": {
      "displayName": "Mert Karabacak",
      "userId": "14308977132914475412"
     },
     "user_tz": 240
    },
    "id": "64EJjOTMpehN",
    "outputId": "6b7f52b8-af49-4d7d-ddec-fed7107fb8c4"
   },
   "outputs": [],
   "source": [
    "#Exclude patients dead on arrival (SBP=0).\n",
    "\n",
    "before = data.shape[0]\n",
    "data = data[data['SBP'] != 0]\n",
    "after = data.shape[0]\n",
    "excluded = before - after\n",
    "\n",
    "print('Number of patients before exclusion: ', before)\n",
    "print('Number of patients after exclusion: ', after)\n",
    "print('Number of patients excluded with this criteria: ', excluded)"
   ]
  },
  {
   "cell_type": "code",
   "execution_count": null,
   "id": "YhXJlva1CWmH",
   "metadata": {
    "executionInfo": {
     "elapsed": 3,
     "status": "ok",
     "timestamp": 1684417018216,
     "user": {
      "displayName": "Mert Karabacak",
      "userId": "14308977132914475412"
     },
     "user_tz": 240
    },
    "id": "YhXJlva1CWmH"
   },
   "outputs": [],
   "source": [
    "data.loc[data['WEIGHT'] > 250, 'WEIGHT'] = np.nan\n",
    "data.loc[data['WEIGHT'] < 30, 'WEIGHT'] = np.nan\n",
    "\n",
    "data.loc[data['HEIGHT'] > 220, 'HEIGHT'] = np.nan\n",
    "data.loc[data['HEIGHT'] < 100, 'HEIGHT'] = np.nan\n",
    "\n",
    "data.loc[data['SBP'] > 250, 'SBP'] = np.nan\n",
    "data.loc[data['SBP'] < 50, 'SBP'] = np.nan\n",
    "\n",
    "data.loc[data['PULSERATE'] > 220, 'PULSERATE'] = np.nan\n",
    "data.loc[data['PULSERATE'] < 20, 'PULSERATE'] = np.nan\n",
    "\n",
    "data.loc[data['PULSEOXIMETRY'] > 100, 'PULSEOXIMETRY'] = np.nan\n",
    "data.loc[data['PULSEOXIMETRY'] < 70, 'PULSEOXIMETRY'] = np.nan\n",
    "\n",
    "data.loc[data['RESPIRATORYRATE'] > 50, 'RESPIRATORYRATE'] = np.nan\n",
    "data.loc[data['RESPIRATORYRATE'] < 4, 'RESPIRATORYRATE'] = np.nan\n",
    "\n",
    "data.loc[data['TEMPERATURE'] > 44, 'TEMPERATURE'] = np.nan\n",
    "data.loc[data['TEMPERATURE'] < 32, 'TEMPERATURE'] = np.nan\n",
    "\n",
    "data.loc[data['HOSPITALARRIVALDAYS'] > 14, 'HOSPITALARRIVALDAYS'] = np.nan\n",
    "data.loc[data['HOSPITALARRIVALDAYS'] < 0, 'HOSPITALARRIVALDAYS'] = np.nan"
   ]
  },
  {
   "cell_type": "code",
   "execution_count": null,
   "id": "5f8c4150",
   "metadata": {
    "executionInfo": {
     "elapsed": 11029,
     "status": "ok",
     "timestamp": 1684417029242,
     "user": {
      "displayName": "Mert Karabacak",
      "userId": "14308977132914475412"
     },
     "user_tz": 240
    },
    "id": "5f8c4150"
   },
   "outputs": [],
   "source": [
    "#Save data.\n",
    "\n",
    "data.to_csv('/content/drive/MyDrive/TQP-atSDH/clean_data.csv')"
   ]
  },
  {
   "cell_type": "markdown",
   "id": "njvXQCqCh3mR",
   "metadata": {
    "id": "njvXQCqCh3mR"
   },
   "source": [
    "#Imputation"
   ]
  },
  {
   "cell_type": "code",
   "execution_count": null,
   "id": "11efb52b",
   "metadata": {
    "colab": {
     "base_uri": "https://localhost:8080/"
    },
    "executionInfo": {
     "elapsed": 410,
     "status": "ok",
     "timestamp": 1684417029647,
     "user": {
      "displayName": "Mert Karabacak",
      "userId": "14308977132914475412"
     },
     "user_tz": 240
    },
    "id": "11efb52b",
    "outputId": "b7a56e40-df2c-42ef-9b50-b123356dc1f2"
   },
   "outputs": [],
   "source": [
    "#Define numerical and categorical columns.\n",
    "\n",
    "num_cols = list(data.select_dtypes('number').columns)\n",
    "print('Numerical columns: {}'.format(num_cols), '\\n')\n",
    "\n",
    "cat_cols = list(data.select_dtypes('object').columns)\n",
    "print('Categorical columns: {}'.format(cat_cols))"
   ]
  },
  {
   "cell_type": "code",
   "execution_count": null,
   "id": "dMi3pCXaOJEQ",
   "metadata": {
    "executionInfo": {
     "elapsed": 19,
     "status": "ok",
     "timestamp": 1684417029647,
     "user": {
      "displayName": "Mert Karabacak",
      "userId": "14308977132914475412"
     },
     "user_tz": 240
    },
    "id": "dMi3pCXaOJEQ"
   },
   "outputs": [],
   "source": [
    "#Remove outcomes.\n",
    "\n",
    "num_cols_remove = ['FINALDISCHARGEDAYS', 'TOTALICULOS']\n",
    "cat_cols_remove = ['HC_CARDARREST', 'HC_CAUTI', 'HC_CLABSI', 'HC_CRBSI', 'HC_DEEPSSI', 'HC_DELIRIUM', 'HC_DRUGALCOHOLWITHDRAWAL', 'HC_DVTHROMBOSIS', 'HC_EMBOLISM', 'HC_EXTREMITYCS', 'HC_GRAFTFAIL', 'HC_INTUBATION', 'HC_KIDNEY', 'HC_MI', 'HC_ORGANSPACESSI', 'HC_OSTEOMYELITIS', 'HC_PNEUMONIA', 'HC_PRESSUREULCER', 'HC_RESPIRATORY', 'HC_RETURNOR', 'HC_SEPSIS', 'HC_STROKECVA', 'HC_SUPERFICIALSSI', 'HC_UNPLANNEDICU', 'HC_UTI', 'HC_VAPNEUMONIA', 'HOSPDISCHARGEDISPOSITION']\n",
    "\n",
    "num_cols = [i for i in num_cols if i not in num_cols_remove]\n",
    "cat_cols = [i for i in cat_cols if i not in cat_cols_remove]"
   ]
  },
  {
   "cell_type": "code",
   "execution_count": null,
   "id": "f7a6bff0",
   "metadata": {
    "colab": {
     "base_uri": "https://localhost:8080/"
    },
    "executionInfo": {
     "elapsed": 19,
     "status": "ok",
     "timestamp": 1684417029648,
     "user": {
      "displayName": "Mert Karabacak",
      "userId": "14308977132914475412"
     },
     "user_tz": 240
    },
    "id": "f7a6bff0",
    "outputId": "861610ab-9884-4381-88eb-c1675bd4aba9"
   },
   "outputs": [],
   "source": [
    "#Check missing values for numerical columns.\n",
    "\n",
    "missing_num = data[num_cols].isnull().mean().round(4).mul(100).sort_values(ascending=False)\n",
    "\n",
    "print(missing_num, '\\n')\n",
    "\n",
    "missing_num = pd.DataFrame(missing_num)\n",
    "\n",
    "missing_num.columns = ['Value']\n",
    "\n",
    "missing_num = missing_num[missing_num['Value'] > 0]\n",
    "\n",
    "print('Numerical variables with missing values: ', list(missing_num.index), '\\n')\n",
    "\n",
    "print('Number of numerical variables with missing values: ', len(list(missing_num.index)), '\\n')\n",
    "\n",
    "missing_num = missing_num[missing_num['Value'] > 25]\n",
    "\n",
    "missing_num = list(missing_num.index)\n",
    "\n",
    "print('Excluded numerical variables: ', missing_num)"
   ]
  },
  {
   "cell_type": "code",
   "execution_count": null,
   "id": "e128cfb5",
   "metadata": {
    "executionInfo": {
     "elapsed": 9,
     "status": "ok",
     "timestamp": 1684417051064,
     "user": {
      "displayName": "Mert Karabacak",
      "userId": "14308977132914475412"
     },
     "user_tz": 240
    },
    "id": "e128cfb5"
   },
   "outputs": [],
   "source": [
    "#Drop numerical columns with missing values over 25%.\n",
    "\n",
    "data.drop(missing_num, axis=1, inplace=True)"
   ]
  },
  {
   "cell_type": "code",
   "execution_count": null,
   "id": "4756b292",
   "metadata": {
    "executionInfo": {
     "elapsed": 5,
     "status": "ok",
     "timestamp": 1684417051065,
     "user": {
      "displayName": "Mert Karabacak",
      "userId": "14308977132914475412"
     },
     "user_tz": 240
    },
    "id": "4756b292"
   },
   "outputs": [],
   "source": [
    "#Define new numerical columns.\n",
    "\n",
    "num_cols = [x for x in num_cols if x not in missing_num]"
   ]
  },
  {
   "cell_type": "code",
   "execution_count": null,
   "id": "ff8609cd",
   "metadata": {
    "executionInfo": {
     "elapsed": 409795,
     "status": "ok",
     "timestamp": 1684417463089,
     "user": {
      "displayName": "Mert Karabacak",
      "userId": "14308977132914475412"
     },
     "user_tz": 240
    },
    "id": "ff8609cd"
   },
   "outputs": [],
   "source": [
    "#Impute missing numerical values.\n",
    "\n",
    "num_imputer = KNNImputer(n_neighbors=5, weights='uniform', metric='nan_euclidean')\n",
    "data[num_cols] = num_imputer.fit_transform(data[num_cols])"
   ]
  },
  {
   "cell_type": "code",
   "execution_count": null,
   "id": "01b6490e",
   "metadata": {
    "colab": {
     "base_uri": "https://localhost:8080/"
    },
    "executionInfo": {
     "elapsed": 1887,
     "status": "ok",
     "timestamp": 1684417664100,
     "user": {
      "displayName": "Mert Karabacak",
      "userId": "14308977132914475412"
     },
     "user_tz": 240
    },
    "id": "01b6490e",
    "outputId": "7d4c6ec1-3ab4-4412-e61e-69e54dfabe76"
   },
   "outputs": [],
   "source": [
    "#Check missing values for categorical columns.\n",
    "\n",
    "missing_cat = data[cat_cols].isnull().mean().round(4).mul(100).sort_values(ascending=False)\n",
    "\n",
    "print(missing_cat, '\\n')\n",
    "\n",
    "missing_cat = pd.DataFrame(missing_cat)\n",
    "\n",
    "missing_cat.columns = ['Value']\n",
    "\n",
    "missing_cat = missing_cat[missing_cat['Value'] > 0]\n",
    "\n",
    "print('Categorical variables with missing values: ', list(missing_cat.index), '\\n')\n",
    "\n",
    "print('Number of categorical variables with missing values: ', len(list(missing_cat.index)), '\\n')\n",
    "\n",
    "missing_cat = missing_cat[missing_cat['Value'] > 25]\n",
    "\n",
    "missing_cat = list(missing_cat.index)\n",
    "\n",
    "print('Excluded categorical variables: ', missing_cat)"
   ]
  },
  {
   "cell_type": "code",
   "execution_count": null,
   "id": "89d3cdc4",
   "metadata": {
    "executionInfo": {
     "elapsed": 279,
     "status": "ok",
     "timestamp": 1684417670877,
     "user": {
      "displayName": "Mert Karabacak",
      "userId": "14308977132914475412"
     },
     "user_tz": 240
    },
    "id": "89d3cdc4"
   },
   "outputs": [],
   "source": [
    "#Drop categorical columns with missing values over 25%.\n",
    "\n",
    "data.drop(missing_cat, axis=1, inplace=True)"
   ]
  },
  {
   "cell_type": "code",
   "execution_count": null,
   "id": "680fe385",
   "metadata": {
    "executionInfo": {
     "elapsed": 3,
     "status": "ok",
     "timestamp": 1684417673313,
     "user": {
      "displayName": "Mert Karabacak",
      "userId": "14308977132914475412"
     },
     "user_tz": 240
    },
    "id": "680fe385"
   },
   "outputs": [],
   "source": [
    "#Define new categorical columns.\n",
    "\n",
    "cat_cols = [x for x in cat_cols if x not in missing_cat]"
   ]
  },
  {
   "cell_type": "code",
   "execution_count": null,
   "id": "9250b986",
   "metadata": {
    "executionInfo": {
     "elapsed": 673,
     "status": "ok",
     "timestamp": 1684417673984,
     "user": {
      "displayName": "Mert Karabacak",
      "userId": "14308977132914475412"
     },
     "user_tz": 240
    },
    "id": "9250b986"
   },
   "outputs": [],
   "source": [
    "#Replace missing categorical values with 'Unknown'.\n",
    "\n",
    "for col in cat_cols:\n",
    "    data[col].fillna(value='Unknown', inplace=True)"
   ]
  },
  {
   "cell_type": "markdown",
   "id": "klZ7H1_Re-U7",
   "metadata": {
    "id": "klZ7H1_Re-U7"
   },
   "source": [
    "#Final Touches"
   ]
  },
  {
   "cell_type": "code",
   "execution_count": null,
   "id": "2BPePSE0mQXq",
   "metadata": {
    "executionInfo": {
     "elapsed": 800,
     "status": "ok",
     "timestamp": 1684417674783,
     "user": {
      "displayName": "Mert Karabacak",
      "userId": "14308977132914475412"
     },
     "user_tz": 240
    },
    "id": "2BPePSE0mQXq"
   },
   "outputs": [],
   "source": [
    "#Change variable names to field names.\n",
    "\n",
    "data_dictionary = pd.read_csv(\"/content/drive/MyDrive/TQP-atSDH/Modified Data Dictionary (Selected).csv\", encoding = 'latin1', index_col = None, low_memory = False)\n",
    "FieldNames = dict(zip(data_dictionary['Variable'], data_dictionary['Field Name']))\n",
    "data.columns = data.columns.map(FieldNames)"
   ]
  },
  {
   "cell_type": "code",
   "execution_count": null,
   "id": "2289a865",
   "metadata": {
    "executionInfo": {
     "elapsed": 7460,
     "status": "ok",
     "timestamp": 1684417682240,
     "user": {
      "displayName": "Mert Karabacak",
      "userId": "14308977132914475412"
     },
     "user_tz": 240
    },
    "id": "2289a865"
   },
   "outputs": [],
   "source": [
    "#Save imputed data.\n",
    "\n",
    "data.to_csv('/content/drive/MyDrive/TQP-atSDH/imputed_data.csv')"
   ]
  },
  {
   "cell_type": "code",
   "execution_count": null,
   "id": "_KO1rkBQZLiq",
   "metadata": {
    "executionInfo": {
     "elapsed": 2029,
     "status": "ok",
     "timestamp": 1684417684267,
     "user": {
      "displayName": "Mert Karabacak",
      "userId": "14308977132914475412"
     },
     "user_tz": 240
    },
    "id": "_KO1rkBQZLiq"
   },
   "outputs": [],
   "source": [
    "#Manual label encoding.\n",
    "\n",
    "data.loc[data['Sex'] == 'Male', 'Sex'] = 0\n",
    "data.loc[data['Sex'] == 'Female', 'Sex'] = 1\n",
    "data.loc[data['Sex'] == 'Non-Binary', 'Sex'] = 2\n",
    "data.loc[data['Sex'] == 'Unknown', 'Sex'] = 3\n",
    "data.loc[data['Ethnicity'] == 'Not Hispanic or Latino', 'Ethnicity'] = 0\n",
    "data.loc[data['Ethnicity'] == 'Hispanic or Latino', 'Ethnicity'] = 1\n",
    "data.loc[data['Ethnicity'] == 'Unknown', 'Ethnicity'] = 2\n",
    "data.loc[data['Supplemental Oxygen'] == 'No supplemental oxygen', 'Supplemental Oxygen'] = 0\n",
    "data.loc[data['Supplemental Oxygen'] == 'Supplemental oxygen', 'Supplemental Oxygen'] = 1\n",
    "data.loc[data['Supplemental Oxygen'] == 'Unknown', 'Supplemental Oxygen'] = 2\n",
    "data.loc[data['Respiratory Assistance'] == 'Unassisted respiratory rate', 'Respiratory Assistance'] = 0\n",
    "data.loc[data['Respiratory Assistance'] == 'Assisted respiratory rate', 'Respiratory Assistance'] = 1\n",
    "data.loc[data['Respiratory Assistance'] == 'Unknown', 'Respiratory Assistance'] = 2\n",
    "data.loc[data['Pupillary Response'] == 'Both reactive', 'Pupillary Response'] = 0\n",
    "data.loc[data['Pupillary Response'] == 'One reactive', 'Pupillary Response'] = 1\n",
    "data.loc[data['Pupillary Response'] == 'Neither reactive', 'Pupillary Response'] = 2\n",
    "data.loc[data['Pupillary Response'] == 'Unknown', 'Pupillary Response'] = 3\n",
    "data.loc[data['Midline Shift'] == 'No', 'Midline Shift'] = 0\n",
    "data.loc[data['Midline Shift'] == 'Yes', 'Midline Shift'] = 1\n",
    "data.loc[data['Midline Shift'] == 'Not imaged/unknown', 'Midline Shift'] = 2\n",
    "data.loc[data['Bleeding Localization'] == 'Supratentorial', 'Bleeding Localization'] = 0\n",
    "data.loc[data['Bleeding Localization'] == 'Infratentorial', 'Bleeding Localization'] = 1\n",
    "data.loc[data['Bleeding Localization'] == 'Unknown', 'Bleeding Localization'] = 2\n",
    "data.loc[data['Bleeding Size'] == 'Tiny (less than 0.6cm thick)', 'Bleeding Size'] = 0\n",
    "data.loc[data['Bleeding Size'] == 'Small or moderate (0.6-1cm thick)'] = 1\n",
    "data.loc[data['Bleeding Size'] == 'Large or massive (more than 1cm thick)', 'Bleeding Size'] = 2\n",
    "data.loc[data['Bleeding Size'] == 'Bilateral large or massive (both sides more than 1cm thick)', 'Bleeding Size'] = 3\n",
    "data.loc[data['Bleeding Size'] == 'Bilateral small or moderate (both sides 0.6-1cm thick)', 'Bleeding Size'] = 4\n",
    "data.loc[data['Bleeding Size'] == 'Unknown', 'Bleeding Size'] = 5\n",
    "data.loc[data['Current Smoker'] == 'No', 'Current Smoker'] = 0\n",
    "data.loc[data['Current Smoker'] == 'Yes', 'Current Smoker'] = 1\n",
    "data.loc[data['Current Smoker'] == 'Unknown', 'Current Smoker'] = 2\n",
    "data.loc[data['Alcohol Use Disorder'] == 'No', 'Alcohol Use Disorder'] = 0\n",
    "data.loc[data['Alcohol Use Disorder'] == 'Yes', 'Alcohol Use Disorder'] = 1\n",
    "data.loc[data['Alcohol Use Disorder'] == 'Unknown', 'Alcohol Use Disorder'] = 2\n",
    "data.loc[data['Substance Abuse Disorder'] == 'No', 'Substance Abuse Disorder'] = 0\n",
    "data.loc[data['Substance Abuse Disorder'] == 'Yes', 'Substance Abuse Disorder'] = 1\n",
    "data.loc[data['Substance Abuse Disorder'] == 'Unknown', 'Substance Abuse Disorder'] = 2\n",
    "data.loc[data['Diabetes Mellitus'] == 'No', 'Diabetes Mellitus'] = 0\n",
    "data.loc[data['Diabetes Mellitus'] == 'Yes', 'Diabetes Mellitus'] = 1\n",
    "data.loc[data['Diabetes Mellitus'] == 'Unknown', 'Diabetes Mellitus'] = 2\n",
    "data.loc[data['Hypertension'] == 'No', 'Hypertension'] = 0\n",
    "data.loc[data['Hypertension'] == 'Yes', 'Hypertension'] = 1\n",
    "data.loc[data['Hypertension'] == 'Unknown', 'Hypertension'] = 2\n",
    "data.loc[data['Congestive Heart Failure'] == 'No', 'Congestive Heart Failure'] = 0\n",
    "data.loc[data['Congestive Heart Failure'] == 'Yes', 'Congestive Heart Failure'] = 1\n",
    "data.loc[data['Congestive Heart Failure'] == 'Unknown', 'Congestive Heart Failure'] = 2\n",
    "data.loc[data['History of Myocardial Infarction'] == 'No', 'History of Myocardial Infarction'] = 0\n",
    "data.loc[data['History of Myocardial Infarction'] == 'Yes', 'History of Myocardial Infarction'] = 1\n",
    "data.loc[data['History of Myocardial Infarction'] == 'Unknown', 'History of Myocardial Infarction'] = 2\n",
    "data.loc[data['Angina Pectoris'] == 'No', 'Angina Pectoris'] = 0\n",
    "data.loc[data['Angina Pectoris'] == 'Yes', 'Angina Pectoris'] = 1\n",
    "data.loc[data['Angina Pectoris'] == 'Unknown', 'Angina Pectoris'] = 2\n",
    "data.loc[data['History of Cerebrovascular Accident'] == 'No', 'History of Cerebrovascular Accident'] = 0\n",
    "data.loc[data['History of Cerebrovascular Accident'] == 'Yes', 'History of Cerebrovascular Accident'] = 1\n",
    "data.loc[data['History of Cerebrovascular Accident'] == 'Unknown', 'History of Cerebrovascular Accident'] = 2\n",
    "data.loc[data['Peripheral Arterial Disease'] == 'No', 'Peripheral Arterial Disease'] = 0\n",
    "data.loc[data['Peripheral Arterial Disease'] == 'Yes', 'Peripheral Arterial Disease'] = 1\n",
    "data.loc[data['Peripheral Arterial Disease'] == 'Unknown', 'Peripheral Arterial Disease'] = 2\n",
    "data.loc[data['Chronic Obstructive Pulmonary Disease'] == 'No', 'Chronic Obstructive Pulmonary Disease'] = 0\n",
    "data.loc[data['Chronic Obstructive Pulmonary Disease'] == 'Yes', 'Chronic Obstructive Pulmonary Disease'] = 1\n",
    "data.loc[data['Chronic Obstructive Pulmonary Disease'] == 'Unknown', 'Chronic Obstructive Pulmonary Disease'] = 2\n",
    "data.loc[data['Chronic Renal Failure'] == 'No', 'Chronic Renal Failure'] = 0\n",
    "data.loc[data['Chronic Renal Failure'] == 'Yes', 'Chronic Renal Failure'] = 1\n",
    "data.loc[data['Chronic Renal Failure'] == 'Unknown', 'Chronic Renal Failure'] = 2\n",
    "data.loc[data['Cirrhosis'] == 'No', 'Cirrhosis'] = 0\n",
    "data.loc[data['Cirrhosis'] == 'Yes', 'Cirrhosis'] = 1\n",
    "data.loc[data['Cirrhosis'] == 'Unknown', 'Cirrhosis'] = 2\n",
    "data.loc[data['Bleeding Disorder'] == 'No', 'Bleeding Disorder'] = 0\n",
    "data.loc[data['Bleeding Disorder'] == 'Yes', 'Bleeding Disorder'] = 1\n",
    "data.loc[data['Bleeding Disorder'] == 'Unknown', 'Bleeding Disorder'] = 2\n",
    "data.loc[data['Disseminated Cancer'] == 'No', 'Disseminated Cancer'] = 0\n",
    "data.loc[data['Disseminated Cancer'] == 'Yes', 'Disseminated Cancer'] = 1\n",
    "data.loc[data['Disseminated Cancer'] == 'Unknown', 'Disseminated Cancer'] = 2\n",
    "data.loc[data['Currently Receiving Chemotherapy for Cancer'] == 'No', 'Currently Receiving Chemotherapy for Cancer'] = 0\n",
    "data.loc[data['Currently Receiving Chemotherapy for Cancer'] == 'Yes', 'Currently Receiving Chemotherapy for Cancer'] = 1\n",
    "data.loc[data['Currently Receiving Chemotherapy for Cancer'] == 'Unknown', 'Currently Receiving Chemotherapy for Cancer'] = 2\n",
    "data.loc[data['Dementia'] == 'No', 'Dementia'] = 0\n",
    "data.loc[data['Dementia'] == 'Yes', 'Dementia'] = 1\n",
    "data.loc[data['Dementia'] == 'Unknown', 'Dementia'] = 2\n",
    "data.loc[data['Attention Deficit Disorder or Attention Deficit Hyperactivity Disorder'] == 'No', 'Attention Deficit Disorder or Attention Deficit Hyperactivity Disorder'] = 0\n",
    "data.loc[data['Attention Deficit Disorder or Attention Deficit Hyperactivity Disorder'] == 'Yes', 'Attention Deficit Disorder or Attention Deficit Hyperactivity Disorder'] = 1\n",
    "data.loc[data['Attention Deficit Disorder or Attention Deficit Hyperactivity Disorder'] == 'Unknown', 'Attention Deficit Disorder or Attention Deficit Hyperactivity Disorder'] = 2\n",
    "data.loc[data['Mental or Personality Disorder'] == 'No', 'Mental or Personality Disorder'] = 0\n",
    "data.loc[data['Mental or Personality Disorder'] == 'Yes', 'Mental or Personality Disorder'] = 1\n",
    "data.loc[data['Mental or Personality Disorder'] == 'Unknown', 'Mental or Personality Disorder'] = 2\n",
    "data.loc[data['Ability to Complete Age-Appropriate ADL'] == 'No', 'Ability to Complete Age-Appropriate ADL'] = 0\n",
    "data.loc[data['Ability to Complete Age-Appropriate ADL'] == 'Yes', 'Ability to Complete Age-Appropriate ADL'] = 1\n",
    "data.loc[data['Ability to Complete Age-Appropriate ADL'] == 'Unknown', 'Ability to Complete Age-Appropriate ADL'] = 2\n",
    "data.loc[data['Pregnancy'] == 'Not applicable (male patient)', 'Pregnancy'] = 0\n",
    "data.loc[data['Pregnancy'] == 'No', 'Pregnancy'] = 1\n",
    "data.loc[data['Pregnancy'] == 'Yes', 'Pregnancy'] = 2\n",
    "data.loc[data['Pregnancy'] == 'Unknown', 'Pregnancy'] = 3\n",
    "data.loc[data['Anticoagulant Therapy'] == 'No', 'Anticoagulant Therapy'] = 0\n",
    "data.loc[data['Anticoagulant Therapy'] == 'Yes', 'Anticoagulant Therapy'] = 1\n",
    "data.loc[data['Anticoagulant Therapy'] == 'Unknown', 'Anticoagulant Therapy'] = 2\n",
    "data.loc[data['Steroid Use'] == 'No', 'Steroid Use'] = 0\n",
    "data.loc[data['Steroid Use'] == 'Yes', 'Steroid Use'] = 1\n",
    "data.loc[data['Steroid Use'] == 'Unknown', 'Steroid Use'] = 2\n",
    "data.loc[data['Transport Mode'] == 'Ground ambulance', 'Transport Mode'] = 0\n",
    "data.loc[data['Transport Mode'] == 'Private/public vehicle/walk-in', 'Transport Mode'] = 1\n",
    "data.loc[data['Transport Mode'] == 'Air ambulance', 'Transport Mode'] = 2\n",
    "data.loc[data['Transport Mode'] == 'Other/police/unknown/etc.', 'Transport Mode'] = 3\n",
    "data.loc[data['Inter-Facility Transfer'] == 'No', 'Inter-Facility Transfer'] = 0\n",
    "data.loc[data['Inter-Facility Transfer'] == 'Yes', 'Inter-Facility Transfer'] = 1\n",
    "data.loc[data['Inter-Facility Transfer'] == 'Unknown', 'Inter-Facility Transfer'] = 2\n",
    "data.loc[data['Trauma Type'] == 'Blunt', 'Trauma Type'] = 0\n",
    "data.loc[data['Trauma Type'] == 'Penetrating', 'Trauma Type'] = 1\n",
    "data.loc[data['Trauma Type'] == 'Other/unknown', 'Trauma Type'] = 2\n",
    "data.loc[data['Injury Intent'] == 'Unintentional', 'Injury Intent'] = 0\n",
    "data.loc[data['Injury Intent'] == 'Assault', 'Injury Intent'] = 1\n",
    "data.loc[data['Injury Intent'] == 'Self-inflicted', 'Injury Intent'] = 2\n",
    "data.loc[data['Injury Intent'] == 'Other/unknown', 'Injury Intent'] = 3\n",
    "data.loc[data['Mechanism of Injury'] == 'Fall', 'Mechanism of Injury'] = 0\n",
    "data.loc[data['Mechanism of Injury'] == 'MVT occupant', 'Mechanism of Injury'] = 1\n",
    "data.loc[data['Mechanism of Injury'] == 'Struck by or against', 'Mechanism of Injury'] = 2\n",
    "data.loc[data['Mechanism of Injury'] == 'Other transport or MVT', 'Mechanism of Injury'] = 3\n",
    "data.loc[data['Mechanism of Injury'] == 'MVT motorcyclist', 'Mechanism of Injury'] = 4\n",
    "data.loc[data['Mechanism of Injury'] == 'MVT pedestrian', 'Mechanism of Injury'] = 5\n",
    "data.loc[data['Mechanism of Injury'] == 'Other pedestrian', 'Mechanism of Injury'] = 6\n",
    "data.loc[data['Mechanism of Injury'] == 'Other pedal cyclist', 'Mechanism of Injury'] = 7\n",
    "data.loc[data['Mechanism of Injury'] == 'Firearm', 'Mechanism of Injury'] = 8\n",
    "data.loc[data['Mechanism of Injury'] == 'MVT pedal cyclist', 'Mechanism of Injury'] = 9\n",
    "data.loc[data['Mechanism of Injury'] == 'Natural or environmental', 'Mechanism of Injury'] = 10\n",
    "data.loc[data['Mechanism of Injury'] == 'Cut/pierce', 'Mechanism of Injury'] = 11\n",
    "data.loc[data['Mechanism of Injury'] == 'Machinery', 'Mechanism of Injury'] = 12\n",
    "data.loc[data['Mechanism of Injury'] == 'Other/unspecified/unknown', 'Mechanism of Injury'] = 13\n",
    "data.loc[data['Protective Device - Airbag'] == 'Non-present/non-MVT injury', 'Protective Device - Airbag'] = 0\n",
    "data.loc[data['Protective Device - Airbag'] == 'Present', 'Protective Device - Airbag'] = 1\n",
    "data.loc[data['Protective Device - Child Restraint (booster seat or child car seat)'] == 'Non-present/non-MVT injury', 'Protective Device - Child Restraint (booster seat or child car seat)'] = 0\n",
    "data.loc[data['Protective Device - Child Restraint (booster seat or child car seat)'] == 'Present', 'Protective Device - Child Restraint (booster seat or child car seat)'] = 1\n",
    "data.loc[data['Protective Device - Lap Belt'] == 'Present', 'Protective Device - Lap Belt'] = 1\n",
    "data.loc[data['Protective Device - Lap Belt'] == 'Non-present/non-MVT injury', 'Protective Device - Lap Belt'] = 0\n",
    "data.loc[data['Protective Device - Shoulder Belt'] == 'Present', 'Protective Device - Shoulder Belt'] = 1\n",
    "data.loc[data['Protective Device - Shoulder Belt'] == 'Non-present/non-MVT injury', 'Protective Device - Shoulder Belt'] = 0\n",
    "data.loc[data['Protective Device - Helmet'] == 'Present', 'Protective Device - Helmet'] = 1\n",
    "data.loc[data['Protective Device - Helmet'] == 'Non-present/non-MVT injury', 'Protective Device - Helmet'] = 0\n",
    "data.loc[data['Work-Related'] == 'No', 'Work-Related'] = 0\n",
    "data.loc[data['Work-Related'] == 'Yes', 'Work-Related'] = 1\n",
    "data.loc[data['Work-Related'] == 'Unknown', 'Work-Related'] = 2\n",
    "data.loc[data['Neurosurgical Intervention'] == 'No', 'Neurosurgical Intervention'] = 0\n",
    "data.loc[data['Neurosurgical Intervention'] == 'Yes', 'Neurosurgical Intervention'] = 1\n",
    "data.loc[data['Alcohol Screen'] == 'No', 'Alcohol Screen'] = 0\n",
    "data.loc[data['Alcohol Screen'] == 'Yes', 'Alcohol Screen'] = 1\n",
    "data.loc[data['Alcohol Screen'] == 'Unknown', 'Alcohol Screen'] = 2\n",
    "data.loc[data['Drug Screen - Amphetamine'] == 'No', 'Drug Screen - Amphetamine'] = 0\n",
    "data.loc[data['Drug Screen - Amphetamine'] == 'Yes', 'Drug Screen - Amphetamine'] = 1\n",
    "data.loc[data['Drug Screen - Amphetamine'] == 'Not tested', 'Drug Screen - Amphetamine'] = 2\n",
    "data.loc[data['Drug Screen - Barbiturate'] == 'No', 'Drug Screen - Barbiturate'] = 0\n",
    "data.loc[data['Drug Screen - Barbiturate'] == 'Yes', 'Drug Screen - Barbiturate'] = 1\n",
    "data.loc[data['Drug Screen - Barbiturate'] == 'Not tested', 'Drug Screen - Barbiturate'] = 2\n",
    "data.loc[data['Drug Screen - Benzodiazepines'] == 'No', 'Drug Screen - Benzodiazepines'] = 0\n",
    "data.loc[data['Drug Screen - Benzodiazepines'] == 'Yes', 'Drug Screen - Benzodiazepines'] = 1\n",
    "data.loc[data['Drug Screen - Benzodiazepines'] == 'Not tested', 'Drug Screen - Benzodiazepines'] = 2\n",
    "data.loc[data['Drug Screen - Cannabinoid'] == 'No', 'Drug Screen - Cannabinoid'] = 0\n",
    "data.loc[data['Drug Screen - Cannabinoid'] == 'Yes', 'Drug Screen - Cannabinoid'] = 1\n",
    "data.loc[data['Drug Screen - Cannabinoid'] == 'Not tested', 'Drug Screen - Cannabinoid'] = 2\n",
    "data.loc[data['Drug Screen - Cocaine'] == 'No', 'Drug Screen - Cocaine'] = 0\n",
    "data.loc[data['Drug Screen - Cocaine'] == 'Yes', 'Drug Screen - Cocaine'] = 1\n",
    "data.loc[data['Drug Screen - Cocaine'] == 'Not tested', 'Drug Screen - Cocaine'] = 2\n",
    "data.loc[data['Drug Screen - MDMA or Ecstasy'] == 'No', 'Drug Screen - MDMA or Ecstasy'] = 0\n",
    "data.loc[data['Drug Screen - MDMA or Ecstasy'] == 'Yes', 'Drug Screen - MDMA or Ecstasy'] = 1\n",
    "data.loc[data['Drug Screen - MDMA or Ecstasy'] == 'Not tested', 'Drug Screen - MDMA or Ecstasy'] = 2\n",
    "data.loc[data['Drug Screen - Methadone'] == 'No', 'Drug Screen - Methadone'] = 0\n",
    "data.loc[data['Drug Screen - Methadone'] == 'Yes', 'Drug Screen - Methadone'] = 1\n",
    "data.loc[data['Drug Screen - Methadone'] == 'Not tested', 'Drug Screen - Methadone'] = 2\n",
    "data.loc[data['Drug Screen - Methamphetamine'] == 'No', 'Drug Screen - Methamphetamine'] = 0\n",
    "data.loc[data['Drug Screen - Methamphetamine'] == 'Yes', 'Drug Screen - Methamphetamine'] = 1\n",
    "data.loc[data['Drug Screen - Methamphetamine'] == 'Not tested', 'Drug Screen - Methamphetamine'] = 2\n",
    "data.loc[data['Drug Screen - Opioid'] == 'No', 'Drug Screen - Opioid'] = 0\n",
    "data.loc[data['Drug Screen - Opioid'] == 'Yes', 'Drug Screen - Opioid'] = 1\n",
    "data.loc[data['Drug Screen - Opioid'] == 'Not tested', 'Drug Screen - Opioid'] = 2\n",
    "data.loc[data['Drug Screen - Oxycodone'] == 'No', 'Drug Screen - Oxycodone'] = 0\n",
    "data.loc[data['Drug Screen - Oxycodone'] == 'Yes', 'Drug Screen - Oxycodone'] = 1\n",
    "data.loc[data['Drug Screen - Oxycodone'] == 'Not tested', 'Drug Screen - Oxycodone'] = 2\n",
    "data.loc[data['Drug Screen - Phencyclidine'] == 'No', 'Drug Screen - Phencyclidine'] = 0\n",
    "data.loc[data['Drug Screen - Phencyclidine'] == 'Yes', 'Drug Screen - Phencyclidine'] = 1\n",
    "data.loc[data['Drug Screen - Phencyclidine'] == 'Not tested', 'Drug Screen - Phencyclidine'] = 2\n",
    "data.loc[data['Drug Screen - Tricyclic Antidepressant'] == 'No', 'Drug Screen - Tricyclic Antidepressant'] = 0\n",
    "data.loc[data['Drug Screen - Tricyclic Antidepressant'] == 'Yes', 'Drug Screen - Tricyclic Antidepressant'] = 1\n",
    "data.loc[data['Drug Screen - Tricyclic Antidepressant'] == 'Not tested', 'Drug Screen - Tricyclic Antidepressant'] = 2\n",
    "data.loc[data['ACS Verification Level'] == 'Level I Trauma Center', 'ACS Verification Level'] = 0\n",
    "data.loc[data['ACS Verification Level'] == 'Level II Trauma Center', 'ACS Verification Level'] = 1\n",
    "data.loc[data['ACS Verification Level'] == 'Level III Trauma Center', 'ACS Verification Level'] = 2\n",
    "data.loc[data['ACS Verification Level'] == 'Unknown', 'ACS Verification Level'] = 3\n",
    "data.loc[data['Hospital Type'] == 'Non-profit', 'Hospital Type'] = 0\n",
    "data.loc[data['Hospital Type'] == 'For profit', 'Hospital Type'] = 1\n",
    "data.loc[data['Hospital Type'] == 'Government', 'Hospital Type'] = 2\n",
    "data.loc[data['Hospital Type'] == 'Unknown', 'Hospital Type'] = 3\n",
    "data.loc[data['Facility Bed Size'] == 'More than 600', 'Facility Bed Size'] = 0\n",
    "data.loc[data['Facility Bed Size'] == '401 to 600', 'Facility Bed Size'] = 1\n",
    "data.loc[data['Facility Bed Size'] == '201 to 400', 'Facility Bed Size'] = 2\n",
    "data.loc[data['Facility Bed Size'] == '200 or fewer', 'Facility Bed Size'] = 3\n",
    "data.loc[data['Primary Method of Payment'] == 'Medicare', 'Primary Method of Payment'] = 0\n",
    "data.loc[data['Primary Method of Payment'] == 'Private/commercial insurance', 'Primary Method of Payment'] = 1\n",
    "data.loc[data['Primary Method of Payment'] == 'Medicaid', 'Primary Method of Payment'] = 2\n",
    "data.loc[data['Primary Method of Payment'] == 'Self-pay', 'Primary Method of Payment'] = 3\n",
    "data.loc[data['Primary Method of Payment'] == 'Not billed', 'Primary Method of Payment'] = 4\n",
    "data.loc[data['Primary Method of Payment'] == 'Other/unknown', 'Primary Method of Payment'] = 5\n",
    "data.loc[data['Race'] == 'White', 'Race'] = 0\n",
    "data.loc[data['Race'] == 'Black', 'Race'] = 1\n",
    "data.loc[data['Race'] == 'Asian', 'Race'] = 2\n",
    "data.loc[data['Race'] == 'American Indian', 'Race'] = 3\n",
    "data.loc[data['Race'] == 'Pacific Islander', 'Race'] = 4\n",
    "data.loc[data['Race'] == 'Other/unknown', 'Race'] = 5\n",
    "data.loc[data['Cerebral Monitoring'] == 'None', 'Cerebral Monitoring'] = 0\n",
    "data.loc[data['Cerebral Monitoring'] == 'Intraventricular drain/catheter', 'Cerebral Monitoring'] = 1\n",
    "data.loc[data['Cerebral Monitoring'] == 'Intraparenchymal oxygen/pressure monitor', 'Cerebral Monitoring'] = 2\n",
    "data.loc[data['Cerebral Monitoring'] == 'Jugular venous bulb', 'Cerebral Monitoring'] = 3\n",
    "data.loc[data['Cerebral Monitoring'] == 'Unknown', 'Cerebral Monitoring'] = 4"
   ]
  },
  {
   "cell_type": "code",
   "execution_count": null,
   "id": "cc12859a",
   "metadata": {
    "id": "cc12859a"
   },
   "outputs": [],
   "source": [
    "#Save final data.\n",
    "\n",
    "data.to_csv('/content/drive/MyDrive/TQP-atSDH/final_data.csv')"
   ]
  }
 ],
 "metadata": {
  "colab": {
   "machine_shape": "hm",
   "provenance": [
    {
     "file_id": "1f9mFmpaZ88D0Gl1NTuQjRllO-7AV_D2d",
     "timestamp": 1677774445633
    },
    {
     "file_id": "1qkdhVqVX240vYpWuEeJY_DKFacob5ztC",
     "timestamp": 1673574900014
    },
    {
     "file_id": "1ggfw-q5XTxdzPn9nnqb4pk7uxKjkpaga",
     "timestamp": 1672250375960
    },
    {
     "file_id": "1g8wyPIRJw1XKU7zF_T4SgLWpAzCOvEQJ",
     "timestamp": 1671643302648
    },
    {
     "file_id": "1Nau1T8kYhu_teXcKnDyTzUTVNIRcruHN",
     "timestamp": 1671032966766
    },
    {
     "file_id": "1fRg4CV3EaBnihAqddzIHeCaU4bmkgUi3",
     "timestamp": 1669913930106
    },
    {
     "file_id": "1AXH9JUz2PztvXr-hpN3EzKrUTEbGW2Si",
     "timestamp": 1669306790787
    }
   ]
  },
  "environment": {
   "kernel": "python3",
   "name": "common-cpu.m100",
   "type": "gcloud",
   "uri": "gcr.io/deeplearning-platform-release/base-cpu:m100"
  },
  "gpuClass": "standard",
  "kernelspec": {
   "display_name": "Python 3 (ipykernel)",
   "language": "python",
   "name": "python3"
  },
  "language_info": {
   "codemirror_mode": {
    "name": "ipython",
    "version": 3
   },
   "file_extension": ".py",
   "mimetype": "text/x-python",
   "name": "python",
   "nbconvert_exporter": "python",
   "pygments_lexer": "ipython3",
   "version": "3.9.6"
  }
 },
 "nbformat": 4,
 "nbformat_minor": 5
}
